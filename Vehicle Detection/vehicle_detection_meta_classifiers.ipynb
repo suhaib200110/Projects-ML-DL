{
  "cells": [
    {
      "cell_type": "markdown",
      "metadata": {
        "_cell_guid": "b1076dfc-b9ad-4769-8c92-a6c4dae69d19",
        "_uuid": "8f2839f25d086af736a60e9eeb907d3b93b6e0e5",
        "id": "G_-SOAdK6pPA"
      },
      "source": [
        "# Vehicle Detection Using Meta-Classifiers (Deep Learning)\n",
        "---\n",
        "Deep learning is a subset of machine learning that focuses on training artificial neural networks to learn and make intelligent decisions or predictions from data. It involves training neural networks with multiple layers to automatically learn hierarchical representations of the data. There are several algorithms in deep learning that can be used for classification problem.\n",
        "\n",
        "- Importing Libraries"
      ]
    },
    {
      "cell_type": "code",
      "execution_count": null,
      "metadata": {
        "execution": {
          "iopub.execute_input": "2023-08-09T04:42:19.794568Z",
          "iopub.status.busy": "2023-08-09T04:42:19.794179Z",
          "iopub.status.idle": "2023-08-09T04:42:35.620487Z",
          "shell.execute_reply": "2023-08-09T04:42:35.619505Z",
          "shell.execute_reply.started": "2023-08-09T04:42:19.794536Z"
        },
        "id": "ltWoBHU06pPD",
        "outputId": "e37e78e9-901c-484f-dcfd-c571c1d0de47"
      },
      "outputs": [
        {
          "name": "stderr",
          "output_type": "stream",
          "text": [
            "/opt/conda/lib/python3.10/site-packages/scipy/__init__.py:146: UserWarning: A NumPy version >=1.16.5 and <1.23.0 is required for this version of SciPy (detected version 1.23.5\n",
            "  warnings.warn(f\"A NumPy version >={np_minversion} and <{np_maxversion}\"\n",
            "/opt/conda/lib/python3.10/site-packages/tensorflow_io/python/ops/__init__.py:98: UserWarning: unable to load libtensorflow_io_plugins.so: unable to open file: libtensorflow_io_plugins.so, from paths: ['/opt/conda/lib/python3.10/site-packages/tensorflow_io/python/ops/libtensorflow_io_plugins.so']\n",
            "caused by: ['/opt/conda/lib/python3.10/site-packages/tensorflow_io/python/ops/libtensorflow_io_plugins.so: undefined symbol: _ZN3tsl6StatusC1EN10tensorflow5error4CodeESt17basic_string_viewIcSt11char_traitsIcEENS_14SourceLocationE']\n",
            "  warnings.warn(f\"unable to load libtensorflow_io_plugins.so: {e}\")\n",
            "/opt/conda/lib/python3.10/site-packages/tensorflow_io/python/ops/__init__.py:104: UserWarning: file system plugins are not loaded: unable to open file: libtensorflow_io.so, from paths: ['/opt/conda/lib/python3.10/site-packages/tensorflow_io/python/ops/libtensorflow_io.so']\n",
            "caused by: ['/opt/conda/lib/python3.10/site-packages/tensorflow_io/python/ops/libtensorflow_io.so: undefined symbol: _ZTVN10tensorflow13GcsFileSystemE']\n",
            "  warnings.warn(f\"file system plugins are not loaded: {e}\")\n"
          ]
        }
      ],
      "source": [
        "import time\n",
        "import pandas as pd\n",
        "import matplotlib.pyplot as plt\n",
        "import numpy as np\n",
        "import os\n",
        "import cv2\n",
        "import tensorflow as tf\n",
        "Total_time = time.time()"
      ]
    },
    {
      "cell_type": "markdown",
      "metadata": {
        "execution": {
          "iopub.execute_input": "2023-08-01T06:24:25.923813Z",
          "iopub.status.busy": "2023-08-01T06:24:25.923412Z",
          "iopub.status.idle": "2023-08-01T06:24:25.931280Z",
          "shell.execute_reply": "2023-08-01T06:24:25.929680Z",
          "shell.execute_reply.started": "2023-08-01T06:24:25.923784Z"
        },
        "id": "Qih5-p6c6pPF"
      },
      "source": [
        "## Data Preprocessing"
      ]
    },
    {
      "cell_type": "code",
      "execution_count": null,
      "metadata": {
        "execution": {
          "iopub.execute_input": "2023-08-09T04:42:35.623081Z",
          "iopub.status.busy": "2023-08-09T04:42:35.622284Z",
          "iopub.status.idle": "2023-08-09T04:46:15.609098Z",
          "shell.execute_reply": "2023-08-09T04:46:15.608117Z",
          "shell.execute_reply.started": "2023-08-09T04:42:35.623036Z"
        },
        "id": "hnNspBhy6pPF"
      },
      "outputs": [],
      "source": [
        "vehicle_folder = \"/kaggle/input/vehicle-detection-image-set/data/vehicles\"\n",
        "nonvehicle_folder = \"/kaggle/input/vehicle-detection-image-set/data/non-vehicles\"\n",
        "data = []\n",
        "labels = []\n",
        "\n",
        "# Process vehicle images\n",
        "for filename in os.listdir(vehicle_folder):\n",
        "    if filename.endswith('.png'):\n",
        "        image_path = os.path.join(vehicle_folder, filename)\n",
        "        image = cv2.imread(image_path)  #Reading the image\n",
        "        data.append(image)\n",
        "        labels.append('vehicle')\n",
        "\n",
        "# Process non-vehicle images\n",
        "for filename in os.listdir(nonvehicle_folder):\n",
        "    if filename.endswith('.png'):\n",
        "        image_path = os.path.join(nonvehicle_folder, filename)\n",
        "        image = cv2.imread(image_path)  # Read the image\n",
        "        data.append(image)\n",
        "        labels.append('non-vehicle')\n",
        "\n",
        "data = np.array(data)\n",
        "labels = np.array(labels)"
      ]
    },
    {
      "cell_type": "code",
      "execution_count": null,
      "metadata": {
        "execution": {
          "iopub.execute_input": "2023-08-09T04:46:15.612827Z",
          "iopub.status.busy": "2023-08-09T04:46:15.610373Z",
          "iopub.status.idle": "2023-08-09T04:46:16.372391Z",
          "shell.execute_reply": "2023-08-09T04:46:16.371347Z",
          "shell.execute_reply.started": "2023-08-09T04:46:15.612789Z"
        },
        "id": "FMKoJ0c96pPF",
        "outputId": "e9f7d9ed-769f-4ce8-fc15-7a0e1ad6f9c2"
      },
      "outputs": [
        {
          "name": "stdout",
          "output_type": "stream",
          "text": [
            "14208 3552\n"
          ]
        }
      ],
      "source": [
        "#Using scikit-learn to split the data\n",
        "from sklearn.model_selection import train_test_split\n",
        "X_train, X_test, y_train, y_test = train_test_split(data, labels, test_size=0.2, random_state=40)\n",
        "print(len(X_train),len(X_test))"
      ]
    },
    {
      "cell_type": "code",
      "execution_count": null,
      "metadata": {
        "execution": {
          "iopub.execute_input": "2023-08-09T04:46:16.375775Z",
          "iopub.status.busy": "2023-08-09T04:46:16.375375Z",
          "iopub.status.idle": "2023-08-09T04:46:16.396082Z",
          "shell.execute_reply": "2023-08-09T04:46:16.395018Z",
          "shell.execute_reply.started": "2023-08-09T04:46:16.375737Z"
        },
        "id": "6dK3BLrU6pPG"
      },
      "outputs": [],
      "source": [
        "label_mapping = {'vehicle': 1, 'non-vehicle': 0}\n",
        "\n",
        "# Convert labels to numerical values\n",
        "y_train_numeric = [label_mapping[label] for label in y_train]\n",
        "y_test_numeric = [label_mapping[label] for label in y_test]\n",
        "\n",
        "y_train_numeric = np.array(y_train_numeric)\n",
        "y_test_numeric = np.array(y_test_numeric)"
      ]
    },
    {
      "cell_type": "code",
      "execution_count": null,
      "metadata": {
        "execution": {
          "iopub.execute_input": "2023-08-09T04:46:16.397916Z",
          "iopub.status.busy": "2023-08-09T04:46:16.397359Z",
          "iopub.status.idle": "2023-08-09T04:46:16.409913Z",
          "shell.execute_reply": "2023-08-09T04:46:16.408903Z",
          "shell.execute_reply.started": "2023-08-09T04:46:16.397883Z"
        },
        "id": "vRcmIpP26pPG",
        "outputId": "17128087-02cb-4f42-b37d-430a1dcb49d8"
      },
      "outputs": [
        {
          "name": "stdout",
          "output_type": "stream",
          "text": [
            "14208\n",
            "14208\n"
          ]
        }
      ],
      "source": [
        "print(len(X_train))\n",
        "print(len(y_train_numeric))"
      ]
    },
    {
      "cell_type": "markdown",
      "metadata": {
        "id": "gEtYV1Qo6pPG"
      },
      "source": [
        "---\n",
        "## 1. CNN\n",
        "Convolutional Neural Network (CNN) is the extended version of artificial neural networks (ANN) which is predominantly used to extract the feature from the grid-like matrix dataset. For example visual datasets like images or videos where data patterns play an extensive role.\n",
        "- Convolution layers consist of a set of learnable filters (or kernels) having small widths and heights and the same depth as that of input volume (3 if the input layer is image input).\n",
        "- For example, if we have to run convolution on an image with dimensions 34x34x3. The possible size of filters can be axax3, where ‘a’ can be anything like 3, 5, or 7 but smaller as compared to the image dimension.\n",
        "- During the forward pass, we slide each filter across the whole input volume step by step where each step is called stride (which can have a value of 2, 3, or even 4 for high-dimensional images) and compute the dot product between the kernel weights and patch from input volume.\n",
        "- As we slide our filters we’ll get a 2-D output for each filter and we’ll stack them together as a result, we’ll get output volume having a depth equal to the number of filters. The network will learn all the filters.\n"
      ]
    },
    {
      "cell_type": "code",
      "execution_count": null,
      "metadata": {
        "execution": {
          "iopub.execute_input": "2023-08-09T04:46:16.411658Z",
          "iopub.status.busy": "2023-08-09T04:46:16.411060Z",
          "iopub.status.idle": "2023-08-09T04:46:22.218665Z",
          "shell.execute_reply": "2023-08-09T04:46:22.217714Z",
          "shell.execute_reply.started": "2023-08-09T04:46:16.411626Z"
        },
        "id": "N-WPGmxd6pPO"
      },
      "outputs": [],
      "source": [
        "from tensorflow import keras\n",
        "model_cnn = keras.Sequential([\n",
        "    keras.layers.Conv2D(32, (3, 3), activation='relu', input_shape=(64, 64, 3)),\n",
        "    keras.layers.MaxPooling2D((2, 2)),\n",
        "    keras.layers.Conv2D(64, (3, 3), activation='relu'),\n",
        "    keras.layers.MaxPooling2D((2, 2)),\n",
        "    keras.layers.Flatten(),\n",
        "    keras.layers.Dense(64, activation='relu'),\n",
        "    keras.layers.Dense(1, activation='sigmoid')\n",
        "])"
      ]
    },
    {
      "cell_type": "code",
      "execution_count": null,
      "metadata": {
        "execution": {
          "iopub.execute_input": "2023-08-09T04:46:22.220441Z",
          "iopub.status.busy": "2023-08-09T04:46:22.220087Z",
          "iopub.status.idle": "2023-08-09T04:46:22.239718Z",
          "shell.execute_reply": "2023-08-09T04:46:22.238606Z",
          "shell.execute_reply.started": "2023-08-09T04:46:22.220402Z"
        },
        "id": "PayVZW6c6pPP"
      },
      "outputs": [],
      "source": [
        "# Compile the model\n",
        "model_cnn.compile(optimizer='adam',\n",
        "              loss='binary_crossentropy',\n",
        "              metrics=['accuracy'])"
      ]
    },
    {
      "cell_type": "code",
      "execution_count": null,
      "metadata": {
        "execution": {
          "iopub.execute_input": "2023-08-09T04:46:22.241788Z",
          "iopub.status.busy": "2023-08-09T04:46:22.241240Z",
          "iopub.status.idle": "2023-08-09T04:47:20.055477Z",
          "shell.execute_reply": "2023-08-09T04:47:20.054488Z",
          "shell.execute_reply.started": "2023-08-09T04:46:22.241753Z"
        },
        "id": "Nu8wXeRK6pPP",
        "outputId": "b8d2965f-5df1-4744-c0cb-c8d47274aec5"
      },
      "outputs": [
        {
          "name": "stdout",
          "output_type": "stream",
          "text": [
            "Epoch 1/100\n",
            "444/444 [==============================] - 17s 6ms/step - loss: 0.7085 - accuracy: 0.9270\n",
            "Epoch 2/100\n",
            "444/444 [==============================] - 2s 4ms/step - loss: 0.0611 - accuracy: 0.9792\n",
            "Epoch 3/100\n",
            "444/444 [==============================] - 2s 5ms/step - loss: 0.0367 - accuracy: 0.9878\n",
            "Epoch 4/100\n",
            "444/444 [==============================] - 2s 4ms/step - loss: 0.0324 - accuracy: 0.9893\n",
            "Epoch 5/100\n",
            "444/444 [==============================] - 2s 4ms/step - loss: 0.0418 - accuracy: 0.9851\n",
            "Epoch 6/100\n",
            "444/444 [==============================] - 2s 4ms/step - loss: 0.0201 - accuracy: 0.9930\n",
            "Epoch 7/100\n",
            "444/444 [==============================] - 2s 4ms/step - loss: 0.0386 - accuracy: 0.9873\n",
            "Epoch 8/100\n",
            "444/444 [==============================] - 2s 5ms/step - loss: 0.0179 - accuracy: 0.9948\n",
            "Epoch 9/100\n",
            "444/444 [==============================] - 2s 4ms/step - loss: 0.0233 - accuracy: 0.9935\n",
            "Epoch 10/100\n",
            "444/444 [==============================] - 2s 4ms/step - loss: 0.0366 - accuracy: 0.9870\n",
            "Epoch 11/100\n",
            "444/444 [==============================] - 2s 4ms/step - loss: 0.0174 - accuracy: 0.9940\n",
            "Epoch 12/100\n",
            "444/444 [==============================] - 2s 4ms/step - loss: 0.0081 - accuracy: 0.9971\n",
            "Epoch 13/100\n",
            "444/444 [==============================] - 2s 5ms/step - loss: 0.0062 - accuracy: 0.9985\n",
            "Epoch 14/100\n",
            "444/444 [==============================] - 2s 4ms/step - loss: 0.0304 - accuracy: 0.9909\n",
            "Epoch 15/100\n",
            "444/444 [==============================] - 2s 4ms/step - loss: 0.0263 - accuracy: 0.9925\n",
            "Epoch 16/100\n",
            "444/444 [==============================] - 2s 5ms/step - loss: 0.0155 - accuracy: 0.9954\n",
            "Epoch 17/100\n",
            "444/444 [==============================] - 2s 5ms/step - loss: 0.0072 - accuracy: 0.9976\n",
            "Epoch 18/100\n",
            "444/444 [==============================] - 2s 5ms/step - loss: 0.0088 - accuracy: 0.9974\n",
            "Epoch 19/100\n",
            "444/444 [==============================] - 2s 4ms/step - loss: 0.0252 - accuracy: 0.9928\n",
            "Epoch 20/100\n",
            "444/444 [==============================] - 2s 4ms/step - loss: 0.0275 - accuracy: 0.9920\n",
            "Epoch 21/100\n",
            "444/444 [==============================] - 2s 4ms/step - loss: 0.0104 - accuracy: 0.9968\n"
          ]
        }
      ],
      "source": [
        "from tensorflow.keras.callbacks import EarlyStopping\n",
        "import time\n",
        "Time_cnn = time.time()\n",
        "early_stopping = EarlyStopping(monitor='accuracy', patience=8, restore_best_weights=True)\n",
        "\n",
        "model_cnn.fit(X_train, y_train_numeric, epochs=100, callbacks=[early_stopping])\n",
        "Time_cnn = time.time() - Time_cnn"
      ]
    },
    {
      "cell_type": "code",
      "execution_count": null,
      "metadata": {
        "execution": {
          "iopub.execute_input": "2023-08-09T04:47:20.057273Z",
          "iopub.status.busy": "2023-08-09T04:47:20.056853Z",
          "iopub.status.idle": "2023-08-09T04:47:20.672240Z",
          "shell.execute_reply": "2023-08-09T04:47:20.671093Z",
          "shell.execute_reply.started": "2023-08-09T04:47:20.057233Z"
        },
        "id": "TU9BKW_D6pPQ",
        "outputId": "7028898a-6177-47c6-e27c-8691284ded67"
      },
      "outputs": [
        {
          "name": "stdout",
          "output_type": "stream",
          "text": [
            "111/111 [==============================] - 0s 3ms/step - loss: 0.7644 - accuracy: 0.9412\n"
          ]
        }
      ],
      "source": [
        "loss, accuracy = model_cnn.evaluate(X_test, y_test_numeric)"
      ]
    },
    {
      "cell_type": "markdown",
      "metadata": {
        "id": "QSKNeI6K6pPQ"
      },
      "source": [
        "---\n",
        "## 2. LSTM\n",
        " LSTM stands for long short-term memory networks, used in the field of Deep Learning. It is a variety of recurrent neural networks (RNNs) that are capable of learning long-term dependencies, especially in sequence prediction problems. LSTM has feedback connections, i.e., it is capable of processing the entire sequence of data, apart from single data points such as images. This finds application in speech recognition, machine translation, etc. LSTM is a special kind of RNN, which shows outstanding performance on a large variety of problems."
      ]
    },
    {
      "cell_type": "code",
      "execution_count": null,
      "metadata": {
        "execution": {
          "iopub.execute_input": "2023-08-09T04:47:20.678043Z",
          "iopub.status.busy": "2023-08-09T04:47:20.677711Z",
          "iopub.status.idle": "2023-08-09T04:47:20.986146Z",
          "shell.execute_reply": "2023-08-09T04:47:20.985174Z",
          "shell.execute_reply.started": "2023-08-09T04:47:20.678015Z"
        },
        "id": "htTBADIE6pPR"
      },
      "outputs": [],
      "source": [
        "from tensorflow.keras.models import Sequential\n",
        "from tensorflow.keras.layers import LSTM, Dense\n",
        "\n",
        "\n",
        "image_height, image_width, num_channels = 64, 64, 3\n",
        "num_timesteps = image_height * image_width * num_channels  # Flatten the image as a sequence\n",
        "\n",
        "\n",
        "# Build the LSTM model for image feature analysis\n",
        "model_lstm = keras.Sequential([\n",
        "    keras.layers.LSTM(64, input_shape=(num_timesteps, 1)),\n",
        "    keras.layers.Dense(2, activation='softmax')\n",
        "])\n",
        "\n",
        "model_lstm.compile(optimizer='adam', loss='sparse_categorical_crossentropy', metrics=['accuracy'])\n",
        "\n",
        "# Reshape the input data to flatten the images as sequences\n",
        "X_train_lstm = X_train.reshape(-1, num_timesteps, 1)\n",
        "X_test_lstm = X_test.reshape(-1, num_timesteps, 1)\n",
        "\n"
      ]
    },
    {
      "cell_type": "code",
      "execution_count": null,
      "metadata": {
        "execution": {
          "iopub.execute_input": "2023-08-09T04:47:20.988023Z",
          "iopub.status.busy": "2023-08-09T04:47:20.987647Z",
          "iopub.status.idle": "2023-08-09T05:40:44.872791Z",
          "shell.execute_reply": "2023-08-09T05:40:44.871611Z",
          "shell.execute_reply.started": "2023-08-09T04:47:20.987987Z"
        },
        "id": "q-x8BH_u6pPR",
        "outputId": "40aedb80-a0f9-43a5-8c0b-38bdf04b6ab5"
      },
      "outputs": [
        {
          "name": "stdout",
          "output_type": "stream",
          "text": [
            "Epoch 1/100\n",
            "57/57 [==============================] - 33s 527ms/step - loss: 0.6141 - accuracy: 0.7119\n",
            "Epoch 2/100\n",
            "57/57 [==============================] - 30s 534ms/step - loss: 0.5028 - accuracy: 0.8119\n",
            "Epoch 3/100\n",
            "57/57 [==============================] - 31s 542ms/step - loss: 0.3624 - accuracy: 0.8596\n",
            "Epoch 4/100\n",
            "57/57 [==============================] - 31s 547ms/step - loss: 0.6422 - accuracy: 0.6942\n",
            "Epoch 5/100\n",
            "57/57 [==============================] - 32s 554ms/step - loss: 0.3566 - accuracy: 0.8630\n",
            "Epoch 6/100\n",
            "57/57 [==============================] - 32s 555ms/step - loss: 0.3151 - accuracy: 0.8770\n",
            "Epoch 7/100\n",
            "57/57 [==============================] - 31s 549ms/step - loss: 0.3017 - accuracy: 0.8806\n",
            "Epoch 8/100\n",
            "57/57 [==============================] - 31s 552ms/step - loss: 0.2920 - accuracy: 0.8850\n",
            "Epoch 9/100\n",
            "57/57 [==============================] - 31s 550ms/step - loss: 0.2849 - accuracy: 0.8882\n",
            "Epoch 10/100\n",
            "57/57 [==============================] - 31s 551ms/step - loss: 0.2621 - accuracy: 0.8936\n",
            "Epoch 11/100\n",
            "57/57 [==============================] - 31s 551ms/step - loss: 0.2639 - accuracy: 0.8936\n",
            "Epoch 12/100\n",
            "57/57 [==============================] - 31s 548ms/step - loss: 0.2714 - accuracy: 0.8882\n",
            "Epoch 13/100\n",
            "57/57 [==============================] - 31s 552ms/step - loss: 0.3005 - accuracy: 0.8853\n",
            "Epoch 14/100\n",
            "57/57 [==============================] - 31s 550ms/step - loss: 0.2623 - accuracy: 0.9010\n",
            "Epoch 15/100\n",
            "57/57 [==============================] - 32s 553ms/step - loss: 0.2869 - accuracy: 0.8814\n",
            "Epoch 16/100\n",
            "57/57 [==============================] - 31s 549ms/step - loss: 0.2521 - accuracy: 0.9001\n",
            "Epoch 17/100\n",
            "57/57 [==============================] - 32s 554ms/step - loss: 0.2914 - accuracy: 0.8863\n",
            "Epoch 18/100\n",
            "57/57 [==============================] - 32s 554ms/step - loss: 0.2401 - accuracy: 0.9067\n",
            "Epoch 19/100\n",
            "57/57 [==============================] - 31s 551ms/step - loss: 0.2403 - accuracy: 0.9072\n",
            "Epoch 20/100\n",
            "57/57 [==============================] - 31s 553ms/step - loss: 0.2358 - accuracy: 0.9136\n",
            "Epoch 21/100\n",
            "57/57 [==============================] - 31s 553ms/step - loss: 0.2192 - accuracy: 0.9174\n",
            "Epoch 22/100\n",
            "57/57 [==============================] - 31s 549ms/step - loss: 0.2672 - accuracy: 0.8932\n",
            "Epoch 23/100\n",
            "57/57 [==============================] - 32s 554ms/step - loss: 0.2273 - accuracy: 0.9136\n",
            "Epoch 24/100\n",
            "57/57 [==============================] - 32s 559ms/step - loss: 0.2065 - accuracy: 0.9237\n",
            "Epoch 25/100\n",
            "57/57 [==============================] - 32s 558ms/step - loss: 0.2276 - accuracy: 0.9159\n",
            "Epoch 26/100\n",
            "57/57 [==============================] - 31s 550ms/step - loss: 0.2173 - accuracy: 0.9186\n",
            "Epoch 27/100\n",
            "57/57 [==============================] - 32s 555ms/step - loss: 0.1994 - accuracy: 0.9242\n",
            "Epoch 28/100\n",
            "57/57 [==============================] - 32s 557ms/step - loss: 0.1984 - accuracy: 0.9255\n",
            "Epoch 29/100\n",
            "57/57 [==============================] - 32s 557ms/step - loss: 0.1914 - accuracy: 0.9300\n",
            "Epoch 30/100\n",
            "57/57 [==============================] - 32s 568ms/step - loss: 0.1848 - accuracy: 0.9319\n",
            "Epoch 31/100\n",
            "57/57 [==============================] - 32s 556ms/step - loss: 0.1835 - accuracy: 0.9322\n",
            "Epoch 32/100\n",
            "57/57 [==============================] - 32s 557ms/step - loss: 0.1829 - accuracy: 0.9319\n",
            "Epoch 33/100\n",
            "57/57 [==============================] - 32s 560ms/step - loss: 0.1856 - accuracy: 0.9291\n",
            "Epoch 34/100\n",
            "57/57 [==============================] - 32s 558ms/step - loss: 0.1749 - accuracy: 0.9353\n",
            "Epoch 35/100\n",
            "57/57 [==============================] - 32s 559ms/step - loss: 0.1720 - accuracy: 0.9367\n",
            "Epoch 36/100\n",
            "57/57 [==============================] - 32s 555ms/step - loss: 0.1649 - accuracy: 0.9393\n",
            "Epoch 37/100\n",
            "57/57 [==============================] - 32s 554ms/step - loss: 0.1660 - accuracy: 0.9385\n",
            "Epoch 38/100\n",
            "57/57 [==============================] - 32s 554ms/step - loss: 0.1628 - accuracy: 0.9386\n",
            "Epoch 39/100\n",
            "57/57 [==============================] - 32s 555ms/step - loss: 0.1598 - accuracy: 0.9399\n",
            "Epoch 40/100\n",
            "57/57 [==============================] - 32s 555ms/step - loss: 0.1611 - accuracy: 0.9409\n",
            "Epoch 41/100\n",
            "57/57 [==============================] - 32s 553ms/step - loss: 0.1566 - accuracy: 0.9437\n",
            "Epoch 42/100\n",
            "57/57 [==============================] - 32s 554ms/step - loss: 0.1534 - accuracy: 0.9457\n",
            "Epoch 43/100\n",
            "57/57 [==============================] - 32s 554ms/step - loss: 0.1536 - accuracy: 0.9442\n",
            "Epoch 44/100\n",
            "57/57 [==============================] - 32s 555ms/step - loss: 0.1808 - accuracy: 0.9307\n",
            "Epoch 45/100\n",
            "57/57 [==============================] - 31s 551ms/step - loss: 0.1528 - accuracy: 0.9453\n",
            "Epoch 46/100\n",
            "57/57 [==============================] - 32s 555ms/step - loss: 0.1474 - accuracy: 0.9476\n",
            "Epoch 47/100\n",
            "57/57 [==============================] - 32s 555ms/step - loss: 0.1583 - accuracy: 0.9419\n",
            "Epoch 48/100\n",
            "57/57 [==============================] - 32s 558ms/step - loss: 0.1462 - accuracy: 0.9471\n",
            "Epoch 49/100\n",
            "57/57 [==============================] - 32s 555ms/step - loss: 0.1397 - accuracy: 0.9503\n",
            "Epoch 50/100\n",
            "57/57 [==============================] - 32s 557ms/step - loss: 0.1401 - accuracy: 0.9500\n",
            "Epoch 51/100\n",
            "57/57 [==============================] - 32s 558ms/step - loss: 0.1372 - accuracy: 0.9511\n",
            "Epoch 52/100\n",
            "57/57 [==============================] - 32s 554ms/step - loss: 0.1353 - accuracy: 0.9517\n",
            "Epoch 53/100\n",
            "57/57 [==============================] - 31s 552ms/step - loss: 0.1327 - accuracy: 0.9538\n",
            "Epoch 54/100\n",
            "57/57 [==============================] - 32s 556ms/step - loss: 0.1296 - accuracy: 0.9545\n",
            "Epoch 55/100\n",
            "57/57 [==============================] - 32s 554ms/step - loss: 0.1284 - accuracy: 0.9536\n",
            "Epoch 56/100\n",
            "57/57 [==============================] - 31s 552ms/step - loss: 0.1268 - accuracy: 0.9542\n",
            "Epoch 57/100\n",
            "57/57 [==============================] - 32s 553ms/step - loss: 0.1294 - accuracy: 0.9526\n",
            "Epoch 58/100\n",
            "57/57 [==============================] - 32s 554ms/step - loss: 0.1241 - accuracy: 0.9550\n",
            "Epoch 59/100\n",
            "57/57 [==============================] - 32s 555ms/step - loss: 0.1241 - accuracy: 0.9550\n",
            "Epoch 60/100\n",
            "57/57 [==============================] - 31s 552ms/step - loss: 0.1233 - accuracy: 0.9550\n",
            "Epoch 61/100\n",
            "57/57 [==============================] - 31s 552ms/step - loss: 0.1242 - accuracy: 0.9546\n",
            "Epoch 62/100\n",
            "57/57 [==============================] - 32s 553ms/step - loss: 0.1200 - accuracy: 0.9564\n",
            "Epoch 63/100\n",
            "57/57 [==============================] - 31s 551ms/step - loss: 0.1194 - accuracy: 0.9580\n",
            "Epoch 64/100\n",
            "57/57 [==============================] - 31s 550ms/step - loss: 0.1198 - accuracy: 0.9560\n",
            "Epoch 65/100\n",
            "57/57 [==============================] - 32s 558ms/step - loss: 0.1316 - accuracy: 0.9538\n",
            "Epoch 66/100\n",
            "57/57 [==============================] - 33s 577ms/step - loss: 0.1210 - accuracy: 0.9567\n",
            "Epoch 67/100\n",
            "57/57 [==============================] - 32s 559ms/step - loss: 0.1123 - accuracy: 0.9614\n",
            "Epoch 68/100\n",
            "57/57 [==============================] - 32s 556ms/step - loss: 0.1097 - accuracy: 0.9605\n",
            "Epoch 69/100\n",
            "57/57 [==============================] - 32s 565ms/step - loss: 0.1176 - accuracy: 0.9585\n",
            "Epoch 70/100\n",
            "57/57 [==============================] - 32s 556ms/step - loss: 0.1108 - accuracy: 0.9611\n",
            "Epoch 71/100\n",
            "57/57 [==============================] - 32s 553ms/step - loss: 0.1061 - accuracy: 0.9612\n",
            "Epoch 72/100\n",
            "57/57 [==============================] - 32s 555ms/step - loss: 0.1117 - accuracy: 0.9609\n",
            "Epoch 73/100\n",
            "57/57 [==============================] - 32s 554ms/step - loss: 0.1064 - accuracy: 0.9613\n",
            "Epoch 74/100\n",
            "57/57 [==============================] - 32s 555ms/step - loss: 0.1009 - accuracy: 0.9640\n",
            "Epoch 75/100\n",
            "57/57 [==============================] - 31s 552ms/step - loss: 0.0964 - accuracy: 0.9672\n",
            "Epoch 76/100\n",
            "57/57 [==============================] - 32s 553ms/step - loss: 0.1026 - accuracy: 0.9643\n",
            "Epoch 77/100\n",
            "57/57 [==============================] - 31s 550ms/step - loss: 0.0972 - accuracy: 0.9656\n",
            "Epoch 78/100\n",
            "57/57 [==============================] - 32s 556ms/step - loss: 0.0930 - accuracy: 0.9681\n",
            "Epoch 79/100\n",
            "57/57 [==============================] - 31s 552ms/step - loss: 0.0875 - accuracy: 0.9687\n",
            "Epoch 80/100\n",
            "57/57 [==============================] - 32s 553ms/step - loss: 0.0874 - accuracy: 0.9674\n",
            "Epoch 81/100\n",
            "57/57 [==============================] - 31s 551ms/step - loss: 0.0869 - accuracy: 0.9691\n",
            "Epoch 82/100\n",
            "57/57 [==============================] - 32s 555ms/step - loss: 0.0835 - accuracy: 0.9708\n",
            "Epoch 83/100\n",
            "57/57 [==============================] - 31s 550ms/step - loss: 0.0856 - accuracy: 0.9695\n",
            "Epoch 84/100\n",
            "57/57 [==============================] - 32s 555ms/step - loss: 0.0816 - accuracy: 0.9707\n",
            "Epoch 85/100\n",
            "57/57 [==============================] - 32s 555ms/step - loss: 0.0826 - accuracy: 0.9709\n",
            "Epoch 86/100\n",
            "57/57 [==============================] - 32s 557ms/step - loss: 0.0760 - accuracy: 0.9742\n",
            "Epoch 87/100\n",
            "57/57 [==============================] - 31s 549ms/step - loss: 0.0749 - accuracy: 0.9729\n",
            "Epoch 88/100\n",
            "57/57 [==============================] - 32s 556ms/step - loss: 0.0866 - accuracy: 0.9692\n",
            "Epoch 89/100\n",
            "57/57 [==============================] - 32s 561ms/step - loss: 0.0809 - accuracy: 0.9719\n",
            "Epoch 90/100\n",
            "57/57 [==============================] - 32s 554ms/step - loss: 0.0858 - accuracy: 0.9699\n",
            "Epoch 91/100\n",
            "57/57 [==============================] - 31s 552ms/step - loss: 0.0823 - accuracy: 0.9712\n",
            "Epoch 92/100\n",
            "57/57 [==============================] - 31s 550ms/step - loss: 0.0728 - accuracy: 0.9736\n",
            "Epoch 93/100\n",
            "57/57 [==============================] - 31s 551ms/step - loss: 0.0703 - accuracy: 0.9747\n",
            "Epoch 94/100\n",
            "57/57 [==============================] - 31s 550ms/step - loss: 0.0709 - accuracy: 0.9749\n",
            "Epoch 95/100\n",
            "57/57 [==============================] - 32s 553ms/step - loss: 0.0688 - accuracy: 0.9758\n",
            "Epoch 96/100\n",
            "57/57 [==============================] - 32s 560ms/step - loss: 0.0673 - accuracy: 0.9766\n",
            "Epoch 97/100\n",
            "57/57 [==============================] - 31s 550ms/step - loss: 0.0643 - accuracy: 0.9777\n",
            "Epoch 98/100\n",
            "57/57 [==============================] - 32s 553ms/step - loss: 0.0677 - accuracy: 0.9764\n",
            "Epoch 99/100\n",
            "57/57 [==============================] - 32s 552ms/step - loss: 0.0665 - accuracy: 0.9765\n",
            "Epoch 100/100\n",
            "57/57 [==============================] - 31s 550ms/step - loss: 0.1529 - accuracy: 0.9477\n"
          ]
        }
      ],
      "source": [
        "from tensorflow.keras.callbacks import EarlyStopping\n",
        "Time = 0\n",
        "Time_lstm = time.time()\n",
        "early_stopping = EarlyStopping(monitor='accuracy', patience=8, restore_best_weights=True)\n",
        "\n",
        "model_lstm.fit(X_train_lstm, y_train_numeric,batch_size=250, epochs=100, callbacks=[early_stopping])\n",
        "Time_lstm = time.time() - Time_lstm\n"
      ]
    },
    {
      "cell_type": "code",
      "execution_count": null,
      "metadata": {
        "execution": {
          "iopub.execute_input": "2023-08-09T05:40:44.874901Z",
          "iopub.status.busy": "2023-08-09T05:40:44.874508Z",
          "iopub.status.idle": "2023-08-09T05:40:59.856738Z",
          "shell.execute_reply": "2023-08-09T05:40:59.855768Z",
          "shell.execute_reply.started": "2023-08-09T05:40:44.874841Z"
        },
        "id": "cXKnBwWj6pPS",
        "outputId": "1aa8b22e-22d8-4b19-b6c8-c386132640cd"
      },
      "outputs": [
        {
          "name": "stdout",
          "output_type": "stream",
          "text": [
            "111/111 [==============================] - 15s 129ms/step - loss: 0.1646 - accuracy: 0.9400\n"
          ]
        }
      ],
      "source": [
        "loss, accuracy = model_lstm.evaluate(X_test_lstm, y_test_numeric)"
      ]
    },
    {
      "cell_type": "markdown",
      "metadata": {
        "id": "-EMyVpRF6pPS"
      },
      "source": [
        "---\n",
        "# 3. GRU\n",
        "- Gated Recurrent Unit (GRU) is a type of recurrent neural network (RNN) that was introduced as a simpler alternative to Long Short-Term Memory (LSTM) networks. Like LSTM, GRU can process sequential data such as text, speech, and time-series data.\n",
        "- The basic idea behind GRU is to use gating mechanisms to selectively update the hidden state of the network at each time step. The gating mechanisms are used to control the flow of information in and out of the network. The GRU has two gating mechanisms, called the reset gate and the update gate.\n",
        "- The reset gate determines how much of the previous hidden state should be forgotten, while the update gate determines how much of the new input should be used to update the hidden state. The output of the GRU is calculated based on the updated hidden state."
      ]
    },
    {
      "cell_type": "code",
      "execution_count": null,
      "metadata": {
        "execution": {
          "iopub.execute_input": "2023-08-09T05:40:59.858769Z",
          "iopub.status.busy": "2023-08-09T05:40:59.858278Z",
          "iopub.status.idle": "2023-08-09T05:41:00.115716Z",
          "shell.execute_reply": "2023-08-09T05:41:00.114760Z",
          "shell.execute_reply.started": "2023-08-09T05:40:59.858731Z"
        },
        "id": "xBabHyzg6pPS"
      },
      "outputs": [],
      "source": [
        "model_gru = keras.Sequential([\n",
        "    keras.layers.GRU(64, input_shape=(num_timesteps, 1)),\n",
        "    keras.layers.Dense(2, activation='softmax')\n",
        "])\n",
        "\n",
        "model_gru.compile(optimizer='adam', loss='sparse_categorical_crossentropy', metrics=['accuracy'])\n",
        "\n",
        "# Reshape the input data to flatten the images as sequences\n",
        "X_train_gru = X_train.reshape(-1, num_timesteps, 1)\n",
        "X_test_gru = X_test.reshape(-1, num_timesteps, 1)"
      ]
    },
    {
      "cell_type": "code",
      "execution_count": null,
      "metadata": {
        "execution": {
          "iopub.execute_input": "2023-08-09T05:41:00.117341Z",
          "iopub.status.busy": "2023-08-09T05:41:00.117004Z",
          "iopub.status.idle": "2023-08-09T06:28:24.018418Z",
          "shell.execute_reply": "2023-08-09T06:28:24.017126Z",
          "shell.execute_reply.started": "2023-08-09T05:41:00.117309Z"
        },
        "id": "8a2tMkV96pPS",
        "outputId": "f03c59a6-35ed-47be-ae79-dc4b953b12a7"
      },
      "outputs": [
        {
          "name": "stdout",
          "output_type": "stream",
          "text": [
            "Epoch 1/100\n",
            "57/57 [==============================] - 31s 496ms/step - loss: 0.5441 - accuracy: 0.7218\n",
            "Epoch 2/100\n",
            "57/57 [==============================] - 28s 498ms/step - loss: 0.3211 - accuracy: 0.8668\n",
            "Epoch 3/100\n",
            "57/57 [==============================] - 28s 493ms/step - loss: 0.2254 - accuracy: 0.9161\n",
            "Epoch 4/100\n",
            "57/57 [==============================] - 28s 500ms/step - loss: 0.1874 - accuracy: 0.9336\n",
            "Epoch 5/100\n",
            "57/57 [==============================] - 28s 499ms/step - loss: 0.3285 - accuracy: 0.8642\n",
            "Epoch 6/100\n",
            "57/57 [==============================] - 28s 498ms/step - loss: 0.2137 - accuracy: 0.9200\n",
            "Epoch 7/100\n",
            "57/57 [==============================] - 29s 503ms/step - loss: 0.1777 - accuracy: 0.9348\n",
            "Epoch 8/100\n",
            "57/57 [==============================] - 28s 498ms/step - loss: 0.1604 - accuracy: 0.9412\n",
            "Epoch 9/100\n",
            "57/57 [==============================] - 28s 497ms/step - loss: 0.1464 - accuracy: 0.9474\n",
            "Epoch 10/100\n",
            "57/57 [==============================] - 28s 493ms/step - loss: 0.1453 - accuracy: 0.9489\n",
            "Epoch 11/100\n",
            "57/57 [==============================] - 28s 498ms/step - loss: 0.1308 - accuracy: 0.9533\n",
            "Epoch 12/100\n",
            "57/57 [==============================] - 29s 503ms/step - loss: 0.1239 - accuracy: 0.9557\n",
            "Epoch 13/100\n",
            "57/57 [==============================] - 28s 499ms/step - loss: 0.1177 - accuracy: 0.9593\n",
            "Epoch 14/100\n",
            "57/57 [==============================] - 28s 497ms/step - loss: 0.1115 - accuracy: 0.9621\n",
            "Epoch 15/100\n",
            "57/57 [==============================] - 28s 493ms/step - loss: 0.1105 - accuracy: 0.9613\n",
            "Epoch 16/100\n",
            "57/57 [==============================] - 28s 495ms/step - loss: 0.1017 - accuracy: 0.9646\n",
            "Epoch 17/100\n",
            "57/57 [==============================] - 28s 495ms/step - loss: 0.1052 - accuracy: 0.9635\n",
            "Epoch 18/100\n",
            "57/57 [==============================] - 28s 495ms/step - loss: 0.0940 - accuracy: 0.9679\n",
            "Epoch 19/100\n",
            "57/57 [==============================] - 28s 491ms/step - loss: 0.0925 - accuracy: 0.9682\n",
            "Epoch 20/100\n",
            "57/57 [==============================] - 28s 487ms/step - loss: 0.0882 - accuracy: 0.9695\n",
            "Epoch 21/100\n",
            "57/57 [==============================] - 28s 491ms/step - loss: 0.0915 - accuracy: 0.9683\n",
            "Epoch 22/100\n",
            "57/57 [==============================] - 28s 488ms/step - loss: 0.0844 - accuracy: 0.9702\n",
            "Epoch 23/100\n",
            "57/57 [==============================] - 28s 491ms/step - loss: 0.0839 - accuracy: 0.9722\n",
            "Epoch 24/100\n",
            "57/57 [==============================] - 28s 489ms/step - loss: 0.0870 - accuracy: 0.9704\n",
            "Epoch 25/100\n",
            "57/57 [==============================] - 28s 490ms/step - loss: 0.0802 - accuracy: 0.9723\n",
            "Epoch 26/100\n",
            "57/57 [==============================] - 28s 486ms/step - loss: 0.0843 - accuracy: 0.9699\n",
            "Epoch 27/100\n",
            "57/57 [==============================] - 28s 489ms/step - loss: 0.0824 - accuracy: 0.9709\n",
            "Epoch 28/100\n",
            "57/57 [==============================] - 28s 487ms/step - loss: 0.0779 - accuracy: 0.9720\n",
            "Epoch 29/100\n",
            "57/57 [==============================] - 28s 490ms/step - loss: 0.0729 - accuracy: 0.9741\n",
            "Epoch 30/100\n",
            "57/57 [==============================] - 28s 497ms/step - loss: 0.0785 - accuracy: 0.9715\n",
            "Epoch 31/100\n",
            "57/57 [==============================] - 28s 493ms/step - loss: 0.0738 - accuracy: 0.9740\n",
            "Epoch 32/100\n",
            "57/57 [==============================] - 28s 492ms/step - loss: 0.0703 - accuracy: 0.9751\n",
            "Epoch 33/100\n",
            "57/57 [==============================] - 28s 493ms/step - loss: 0.0712 - accuracy: 0.9744\n",
            "Epoch 34/100\n",
            "57/57 [==============================] - 28s 491ms/step - loss: 0.0666 - accuracy: 0.9767\n",
            "Epoch 35/100\n",
            "57/57 [==============================] - 28s 496ms/step - loss: 0.0722 - accuracy: 0.9742\n",
            "Epoch 36/100\n",
            "57/57 [==============================] - 28s 498ms/step - loss: 0.0663 - accuracy: 0.9764\n",
            "Epoch 37/100\n",
            "57/57 [==============================] - 28s 493ms/step - loss: 0.0691 - accuracy: 0.9748\n",
            "Epoch 38/100\n",
            "57/57 [==============================] - 28s 496ms/step - loss: 0.0654 - accuracy: 0.9770\n",
            "Epoch 39/100\n",
            "57/57 [==============================] - 28s 498ms/step - loss: 0.0632 - accuracy: 0.9785\n",
            "Epoch 40/100\n",
            "57/57 [==============================] - 28s 494ms/step - loss: 0.0624 - accuracy: 0.9782\n",
            "Epoch 41/100\n",
            "57/57 [==============================] - 28s 498ms/step - loss: 0.0680 - accuracy: 0.9768\n",
            "Epoch 42/100\n",
            "57/57 [==============================] - 28s 493ms/step - loss: 0.0654 - accuracy: 0.9776\n",
            "Epoch 43/100\n",
            "57/57 [==============================] - 28s 491ms/step - loss: 0.0605 - accuracy: 0.9804\n",
            "Epoch 44/100\n",
            "57/57 [==============================] - 28s 494ms/step - loss: 0.0671 - accuracy: 0.9766\n",
            "Epoch 45/100\n",
            "57/57 [==============================] - 28s 496ms/step - loss: 0.0636 - accuracy: 0.9778\n",
            "Epoch 46/100\n",
            "57/57 [==============================] - 29s 501ms/step - loss: 0.0560 - accuracy: 0.9814\n",
            "Epoch 47/100\n",
            "57/57 [==============================] - 29s 500ms/step - loss: 0.0628 - accuracy: 0.9778\n",
            "Epoch 48/100\n",
            "57/57 [==============================] - 28s 497ms/step - loss: 0.0558 - accuracy: 0.9809\n",
            "Epoch 49/100\n",
            "57/57 [==============================] - 28s 500ms/step - loss: 0.0568 - accuracy: 0.9806\n",
            "Epoch 50/100\n",
            "57/57 [==============================] - 28s 493ms/step - loss: 0.0564 - accuracy: 0.9805\n",
            "Epoch 51/100\n",
            "57/57 [==============================] - 29s 502ms/step - loss: 0.0538 - accuracy: 0.9818\n",
            "Epoch 52/100\n",
            "57/57 [==============================] - 28s 490ms/step - loss: 0.0552 - accuracy: 0.9818\n",
            "Epoch 53/100\n",
            "57/57 [==============================] - 28s 497ms/step - loss: 0.0541 - accuracy: 0.9816\n",
            "Epoch 54/100\n",
            "57/57 [==============================] - 28s 493ms/step - loss: 0.0530 - accuracy: 0.9814\n",
            "Epoch 55/100\n",
            "57/57 [==============================] - 28s 496ms/step - loss: 0.0555 - accuracy: 0.9808\n",
            "Epoch 56/100\n",
            "57/57 [==============================] - 28s 497ms/step - loss: 0.0560 - accuracy: 0.9801\n",
            "Epoch 57/100\n",
            "57/57 [==============================] - 28s 499ms/step - loss: 0.0494 - accuracy: 0.9831\n",
            "Epoch 58/100\n",
            "57/57 [==============================] - 29s 500ms/step - loss: 0.0503 - accuracy: 0.9825\n",
            "Epoch 59/100\n",
            "57/57 [==============================] - 28s 498ms/step - loss: 0.0497 - accuracy: 0.9827\n",
            "Epoch 60/100\n",
            "57/57 [==============================] - 28s 496ms/step - loss: 0.0493 - accuracy: 0.9830\n",
            "Epoch 61/100\n",
            "57/57 [==============================] - 28s 490ms/step - loss: 0.0474 - accuracy: 0.9833\n",
            "Epoch 62/100\n",
            "57/57 [==============================] - 28s 497ms/step - loss: 0.0462 - accuracy: 0.9838\n",
            "Epoch 63/100\n",
            "57/57 [==============================] - 28s 494ms/step - loss: 0.0464 - accuracy: 0.9845\n",
            "Epoch 64/100\n",
            "57/57 [==============================] - 28s 500ms/step - loss: 0.0510 - accuracy: 0.9821\n",
            "Epoch 65/100\n",
            "57/57 [==============================] - 28s 499ms/step - loss: 0.0461 - accuracy: 0.9837\n",
            "Epoch 66/100\n",
            "57/57 [==============================] - 28s 498ms/step - loss: 0.0458 - accuracy: 0.9838\n",
            "Epoch 67/100\n",
            "57/57 [==============================] - 28s 498ms/step - loss: 0.0532 - accuracy: 0.9816\n",
            "Epoch 68/100\n",
            "57/57 [==============================] - 28s 498ms/step - loss: 0.0448 - accuracy: 0.9854\n",
            "Epoch 69/100\n",
            "57/57 [==============================] - 28s 500ms/step - loss: 0.0436 - accuracy: 0.9844\n",
            "Epoch 70/100\n",
            "57/57 [==============================] - 28s 494ms/step - loss: 0.0427 - accuracy: 0.9858\n",
            "Epoch 71/100\n",
            "57/57 [==============================] - 28s 498ms/step - loss: 0.0463 - accuracy: 0.9837\n",
            "Epoch 72/100\n",
            "57/57 [==============================] - 28s 495ms/step - loss: 0.0445 - accuracy: 0.9851\n",
            "Epoch 73/100\n",
            "57/57 [==============================] - 28s 498ms/step - loss: 0.0434 - accuracy: 0.9855\n",
            "Epoch 74/100\n",
            "57/57 [==============================] - 28s 496ms/step - loss: 0.0411 - accuracy: 0.9860\n",
            "Epoch 75/100\n",
            "57/57 [==============================] - 28s 500ms/step - loss: 0.0423 - accuracy: 0.9851\n",
            "Epoch 76/100\n",
            "57/57 [==============================] - 28s 497ms/step - loss: 0.0405 - accuracy: 0.9865\n",
            "Epoch 77/100\n",
            "57/57 [==============================] - 29s 501ms/step - loss: 0.0412 - accuracy: 0.9851\n",
            "Epoch 78/100\n",
            "57/57 [==============================] - 28s 499ms/step - loss: 0.0397 - accuracy: 0.9859\n",
            "Epoch 79/100\n",
            "57/57 [==============================] - 28s 495ms/step - loss: 0.0377 - accuracy: 0.9878\n",
            "Epoch 80/100\n",
            "57/57 [==============================] - 28s 497ms/step - loss: 0.0371 - accuracy: 0.9871\n",
            "Epoch 81/100\n",
            "57/57 [==============================] - 28s 498ms/step - loss: 0.0518 - accuracy: 0.9816\n",
            "Epoch 82/100\n",
            "57/57 [==============================] - 28s 498ms/step - loss: 0.0396 - accuracy: 0.9861\n",
            "Epoch 83/100\n",
            "57/57 [==============================] - 28s 498ms/step - loss: 0.0394 - accuracy: 0.9864\n",
            "Epoch 84/100\n",
            "57/57 [==============================] - 28s 497ms/step - loss: 0.0427 - accuracy: 0.9857\n",
            "Epoch 85/100\n",
            "57/57 [==============================] - 28s 496ms/step - loss: 0.0371 - accuracy: 0.9872\n",
            "Epoch 86/100\n",
            "57/57 [==============================] - 28s 499ms/step - loss: 0.0372 - accuracy: 0.9882\n",
            "Epoch 87/100\n",
            "57/57 [==============================] - 28s 498ms/step - loss: 0.0385 - accuracy: 0.9865\n",
            "Epoch 88/100\n",
            "57/57 [==============================] - 28s 493ms/step - loss: 0.0369 - accuracy: 0.9873\n",
            "Epoch 89/100\n",
            "57/57 [==============================] - 28s 498ms/step - loss: 0.0350 - accuracy: 0.9875\n",
            "Epoch 90/100\n",
            "57/57 [==============================] - 28s 500ms/step - loss: 0.0376 - accuracy: 0.9866\n",
            "Epoch 91/100\n",
            "57/57 [==============================] - 28s 494ms/step - loss: 0.0322 - accuracy: 0.9887\n",
            "Epoch 92/100\n",
            "57/57 [==============================] - 28s 497ms/step - loss: 0.0340 - accuracy: 0.9879\n",
            "Epoch 93/100\n",
            "57/57 [==============================] - 28s 494ms/step - loss: 0.0427 - accuracy: 0.9852\n",
            "Epoch 94/100\n",
            "57/57 [==============================] - 28s 498ms/step - loss: 0.0331 - accuracy: 0.9889\n",
            "Epoch 95/100\n",
            "57/57 [==============================] - 28s 494ms/step - loss: 0.0419 - accuracy: 0.9856\n",
            "Epoch 96/100\n",
            "57/57 [==============================] - 28s 494ms/step - loss: 0.0325 - accuracy: 0.9877\n",
            "Epoch 97/100\n",
            "57/57 [==============================] - 28s 490ms/step - loss: 0.0385 - accuracy: 0.9860\n",
            "Epoch 98/100\n",
            "57/57 [==============================] - 28s 496ms/step - loss: 0.0351 - accuracy: 0.9873\n",
            "Epoch 99/100\n",
            "57/57 [==============================] - 28s 497ms/step - loss: 0.0317 - accuracy: 0.9882\n",
            "Epoch 100/100\n",
            "57/57 [==============================] - 28s 494ms/step - loss: 0.0394 - accuracy: 0.9856\n"
          ]
        }
      ],
      "source": [
        "Time_gru = time.time()\n",
        "model_gru.fit(X_train_lstm, y_train_numeric,batch_size=250, epochs=100, callbacks=[early_stopping])\n",
        "Time_gru = time.time() - Time_gru\n"
      ]
    },
    {
      "cell_type": "code",
      "execution_count": null,
      "metadata": {
        "execution": {
          "iopub.execute_input": "2023-08-09T06:28:24.020682Z",
          "iopub.status.busy": "2023-08-09T06:28:24.020286Z",
          "iopub.status.idle": "2023-08-09T06:28:38.923098Z",
          "shell.execute_reply": "2023-08-09T06:28:38.922200Z",
          "shell.execute_reply.started": "2023-08-09T06:28:24.020646Z"
        },
        "id": "3gnA1P3i6pPS",
        "outputId": "b3abf44d-b8af-4601-bbd9-ce41299d4ed6"
      },
      "outputs": [
        {
          "name": "stdout",
          "output_type": "stream",
          "text": [
            "111/111 [==============================] - 15s 128ms/step - loss: 0.0709 - accuracy: 0.9749\n"
          ]
        }
      ],
      "source": [
        "loss, accuracy = model_gru.evaluate(X_test_gru, y_test_numeric)"
      ]
    },
    {
      "cell_type": "markdown",
      "metadata": {
        "id": "Gb5nZxpK6pPT"
      },
      "source": [
        "---\n",
        "# 4. Multilayer Preceptron\n",
        "    \n",
        " The multilayer perceptron (MLP) neural network is the most popular feedforward neural network widely used to tackle different classification and prediction problems. The successful behavior of MLP depends on the proper configurations of its input parameters (i.e., weights and biases), which are adjusted in the learning process using a gradient-based mechanism."
      ]
    },
    {
      "cell_type": "code",
      "execution_count": null,
      "metadata": {
        "execution": {
          "iopub.execute_input": "2023-08-09T06:28:38.925190Z",
          "iopub.status.busy": "2023-08-09T06:28:38.924810Z",
          "iopub.status.idle": "2023-08-09T06:28:38.983549Z",
          "shell.execute_reply": "2023-08-09T06:28:38.982527Z",
          "shell.execute_reply.started": "2023-08-09T06:28:38.925156Z"
        },
        "id": "obz9DWPw6pPT"
      },
      "outputs": [],
      "source": [
        "model_mlp = Sequential([\n",
        "    keras.layers.Flatten(input_shape=(image_height, image_width, num_channels)),\n",
        "    keras.layers.Dense(32, activation='relu'),\n",
        "    keras.layers.Dense(64, activation='relu'),\n",
        "    keras.layers.Dense(1, activation='sigmoid')\n",
        "])\n",
        "\n",
        "model_mlp.compile(optimizer='adam', loss='binary_crossentropy', metrics=['accuracy'])"
      ]
    },
    {
      "cell_type": "code",
      "execution_count": null,
      "metadata": {
        "execution": {
          "iopub.execute_input": "2023-08-09T06:28:38.985522Z",
          "iopub.status.busy": "2023-08-09T06:28:38.985133Z",
          "iopub.status.idle": "2023-08-09T06:28:49.625274Z",
          "shell.execute_reply": "2023-08-09T06:28:49.624366Z",
          "shell.execute_reply.started": "2023-08-09T06:28:38.985486Z"
        },
        "id": "hJRKZ-sH6pPT",
        "outputId": "7c509f0a-6921-401c-e043-61b5628f809c"
      },
      "outputs": [
        {
          "name": "stdout",
          "output_type": "stream",
          "text": [
            "Epoch 1/100\n",
            "57/57 [==============================] - 2s 5ms/step - loss: 8.0114 - accuracy: 0.7323\n",
            "Epoch 2/100\n",
            "57/57 [==============================] - 0s 5ms/step - loss: 1.0802 - accuracy: 0.8390\n",
            "Epoch 3/100\n",
            "57/57 [==============================] - 0s 5ms/step - loss: 1.2694 - accuracy: 0.8266\n",
            "Epoch 4/100\n",
            "57/57 [==============================] - 0s 5ms/step - loss: 1.2330 - accuracy: 0.8326\n",
            "Epoch 5/100\n",
            "57/57 [==============================] - 0s 5ms/step - loss: 1.5696 - accuracy: 0.8038\n",
            "Epoch 6/100\n",
            "57/57 [==============================] - 0s 5ms/step - loss: 0.4723 - accuracy: 0.8967\n",
            "Epoch 7/100\n",
            "57/57 [==============================] - 0s 5ms/step - loss: 0.2911 - accuracy: 0.9082\n",
            "Epoch 8/100\n",
            "57/57 [==============================] - 0s 5ms/step - loss: 0.2515 - accuracy: 0.9210\n",
            "Epoch 9/100\n",
            "57/57 [==============================] - 0s 5ms/step - loss: 0.2629 - accuracy: 0.9130\n",
            "Epoch 10/100\n",
            "57/57 [==============================] - 0s 5ms/step - loss: 0.2649 - accuracy: 0.9127\n",
            "Epoch 11/100\n",
            "57/57 [==============================] - 0s 6ms/step - loss: 0.3856 - accuracy: 0.8903\n",
            "Epoch 12/100\n",
            "57/57 [==============================] - 0s 5ms/step - loss: 0.2018 - accuracy: 0.9300\n",
            "Epoch 13/100\n",
            "57/57 [==============================] - 0s 5ms/step - loss: 0.1672 - accuracy: 0.9402\n",
            "Epoch 14/100\n",
            "57/57 [==============================] - 0s 5ms/step - loss: 0.1721 - accuracy: 0.9370\n",
            "Epoch 15/100\n",
            "57/57 [==============================] - 0s 5ms/step - loss: 0.1647 - accuracy: 0.9418\n",
            "Epoch 16/100\n",
            "57/57 [==============================] - 0s 5ms/step - loss: 0.1996 - accuracy: 0.9281\n",
            "Epoch 17/100\n",
            "57/57 [==============================] - 0s 5ms/step - loss: 0.1634 - accuracy: 0.9388\n",
            "Epoch 18/100\n",
            "57/57 [==============================] - 0s 5ms/step - loss: 0.1633 - accuracy: 0.9400\n",
            "Epoch 19/100\n",
            "57/57 [==============================] - 0s 5ms/step - loss: 0.1562 - accuracy: 0.9410\n",
            "Epoch 20/100\n",
            "57/57 [==============================] - 0s 5ms/step - loss: 0.1735 - accuracy: 0.9371\n",
            "Epoch 21/100\n",
            "57/57 [==============================] - 0s 5ms/step - loss: 0.3129 - accuracy: 0.8974\n",
            "Epoch 22/100\n",
            "57/57 [==============================] - 0s 5ms/step - loss: 0.1645 - accuracy: 0.9421\n",
            "Epoch 23/100\n",
            "57/57 [==============================] - 0s 5ms/step - loss: 0.1438 - accuracy: 0.9476\n",
            "Epoch 24/100\n",
            "57/57 [==============================] - 0s 5ms/step - loss: 0.1361 - accuracy: 0.9505\n",
            "Epoch 25/100\n",
            "57/57 [==============================] - 0s 5ms/step - loss: 5.8480 - accuracy: 0.7826\n",
            "Epoch 26/100\n",
            "57/57 [==============================] - 0s 5ms/step - loss: 2.1743 - accuracy: 0.7824\n",
            "Epoch 27/100\n",
            "57/57 [==============================] - 0s 5ms/step - loss: 0.3278 - accuracy: 0.8818\n",
            "Epoch 28/100\n",
            "57/57 [==============================] - 0s 5ms/step - loss: 0.3079 - accuracy: 0.8868\n",
            "Epoch 29/100\n",
            "57/57 [==============================] - 0s 5ms/step - loss: 0.2900 - accuracy: 0.8907\n",
            "Epoch 30/100\n",
            "57/57 [==============================] - 0s 5ms/step - loss: 0.2768 - accuracy: 0.8951\n",
            "Epoch 31/100\n",
            "57/57 [==============================] - 0s 5ms/step - loss: 0.2739 - accuracy: 0.8979\n",
            "Epoch 32/100\n",
            "57/57 [==============================] - 0s 5ms/step - loss: 0.2491 - accuracy: 0.9091\n"
          ]
        }
      ],
      "source": [
        "early_stopping = EarlyStopping(monitor='accuracy', patience=8, restore_best_weights=True)\n",
        "\n",
        "Time_mlp = time.time()\n",
        "model_mlp.fit(X_train, y_train_numeric,batch_size=250, epochs=100, callbacks=[early_stopping])\n",
        "Time_mlp = time.time() - Time_mlp\n"
      ]
    },
    {
      "cell_type": "code",
      "execution_count": null,
      "metadata": {
        "execution": {
          "iopub.execute_input": "2023-08-09T06:28:49.627329Z",
          "iopub.status.busy": "2023-08-09T06:28:49.626948Z",
          "iopub.status.idle": "2023-08-09T06:28:50.170906Z",
          "shell.execute_reply": "2023-08-09T06:28:50.169957Z",
          "shell.execute_reply.started": "2023-08-09T06:28:49.627292Z"
        },
        "id": "46rfBmlM6pPT",
        "outputId": "5022877e-aa0d-4841-9ce5-24699682d349"
      },
      "outputs": [
        {
          "name": "stdout",
          "output_type": "stream",
          "text": [
            "111/111 [==============================] - 0s 2ms/step - loss: 0.1953 - accuracy: 0.9336\n"
          ]
        }
      ],
      "source": [
        "loss, accuracy = model_mlp.evaluate(X_test, y_test_numeric)"
      ]
    },
    {
      "cell_type": "markdown",
      "metadata": {
        "id": "daJ0_kk36pPT"
      },
      "source": [
        "---\n",
        "# 5. TCN\n",
        " It is inspired by convolutional architectures for sequential data and combines simplicity, autoregressive prediction, and very long memory. The TCN is designed from two basic principles:\n",
        "\n",
        "- The convolutions are causal, meaning that there is no information leakage from future to past. The architecture can take a sequence of any length and map it to an output sequence of the same length just as with an RNN.\n",
        "- To achieve the first point, the TCN uses causal convolutions, i.e., convolutions where an output at time t is convolved only with elements from time t and earlier in the previous layer. To accomplish the second point, the TCN uses a 1D fully-convolutional network architecture, where each hidden layer is the same length as the input layer."
      ]
    },
    {
      "cell_type": "code",
      "execution_count": null,
      "metadata": {
        "execution": {
          "iopub.execute_input": "2023-08-09T06:28:50.174538Z",
          "iopub.status.busy": "2023-08-09T06:28:50.174203Z",
          "iopub.status.idle": "2023-08-09T06:28:53.974112Z",
          "shell.execute_reply": "2023-08-09T06:28:53.972818Z",
          "shell.execute_reply.started": "2023-08-09T06:28:50.174508Z"
        },
        "id": "KcKae-Nt6pPU"
      },
      "outputs": [],
      "source": [
        "!pip install -q keras-tcn --no-dependencies\n"
      ]
    },
    {
      "cell_type": "code",
      "execution_count": null,
      "metadata": {
        "execution": {
          "iopub.execute_input": "2023-08-09T06:28:53.976682Z",
          "iopub.status.busy": "2023-08-09T06:28:53.976296Z",
          "iopub.status.idle": "2023-08-09T06:29:45.683528Z",
          "shell.execute_reply": "2023-08-09T06:29:45.682330Z",
          "shell.execute_reply.started": "2023-08-09T06:28:53.976644Z"
        },
        "id": "Btz4dQvS6pPU",
        "outputId": "9c6fcdb2-81d1-4da6-a915-75794eb18dde"
      },
      "outputs": [
        {
          "name": "stdout",
          "output_type": "stream",
          "text": [
            "Epoch 1/100\n",
            "57/57 [==============================] - 11s 51ms/step - loss: 27.1203 - accuracy: 0.7969\n",
            "Epoch 2/100\n",
            "57/57 [==============================] - 1s 22ms/step - loss: 2.0276 - accuracy: 0.8822\n",
            "Epoch 3/100\n",
            "57/57 [==============================] - 1s 22ms/step - loss: 1.1941 - accuracy: 0.9086\n",
            "Epoch 4/100\n",
            "57/57 [==============================] - 1s 22ms/step - loss: 0.7717 - accuracy: 0.9276\n",
            "Epoch 5/100\n",
            "57/57 [==============================] - 1s 22ms/step - loss: 0.5185 - accuracy: 0.9431\n",
            "Epoch 6/100\n",
            "57/57 [==============================] - 1s 22ms/step - loss: 0.4905 - accuracy: 0.9438\n",
            "Epoch 7/100\n",
            "57/57 [==============================] - 1s 23ms/step - loss: 0.3298 - accuracy: 0.9593\n",
            "Epoch 8/100\n",
            "57/57 [==============================] - 1s 22ms/step - loss: 0.2425 - accuracy: 0.9655\n",
            "Epoch 9/100\n",
            "57/57 [==============================] - 1s 22ms/step - loss: 0.2632 - accuracy: 0.9620\n",
            "Epoch 10/100\n",
            "57/57 [==============================] - 1s 22ms/step - loss: 0.1865 - accuracy: 0.9711\n",
            "Epoch 11/100\n",
            "57/57 [==============================] - 1s 22ms/step - loss: 0.1502 - accuracy: 0.9754\n",
            "Epoch 12/100\n",
            "57/57 [==============================] - 1s 22ms/step - loss: 0.0979 - accuracy: 0.9812\n",
            "Epoch 13/100\n",
            "57/57 [==============================] - 1s 22ms/step - loss: 0.1353 - accuracy: 0.9763\n",
            "Epoch 14/100\n",
            "57/57 [==============================] - 1s 22ms/step - loss: 0.1386 - accuracy: 0.9774\n",
            "Epoch 15/100\n",
            "57/57 [==============================] - 1s 23ms/step - loss: 0.0667 - accuracy: 0.9854\n",
            "Epoch 16/100\n",
            "57/57 [==============================] - 1s 25ms/step - loss: 0.0760 - accuracy: 0.9830\n",
            "Epoch 17/100\n",
            "57/57 [==============================] - 1s 22ms/step - loss: 0.0325 - accuracy: 0.9911\n",
            "Epoch 18/100\n",
            "57/57 [==============================] - 1s 22ms/step - loss: 0.0478 - accuracy: 0.9884\n",
            "Epoch 19/100\n",
            "57/57 [==============================] - 1s 22ms/step - loss: 0.0304 - accuracy: 0.9922\n",
            "Epoch 20/100\n",
            "57/57 [==============================] - 1s 22ms/step - loss: 0.0236 - accuracy: 0.9939\n",
            "Epoch 21/100\n",
            "57/57 [==============================] - 1s 22ms/step - loss: 0.0223 - accuracy: 0.9939\n",
            "Epoch 22/100\n",
            "57/57 [==============================] - 1s 22ms/step - loss: 0.0165 - accuracy: 0.9954\n",
            "Epoch 23/100\n",
            "57/57 [==============================] - 1s 23ms/step - loss: 0.0202 - accuracy: 0.9939\n",
            "Epoch 24/100\n",
            "57/57 [==============================] - 1s 22ms/step - loss: 0.0130 - accuracy: 0.9958\n",
            "Epoch 25/100\n",
            "57/57 [==============================] - 1s 22ms/step - loss: 0.0258 - accuracy: 0.9933\n",
            "Epoch 26/100\n",
            "57/57 [==============================] - 1s 22ms/step - loss: 0.0461 - accuracy: 0.9885\n",
            "Epoch 27/100\n",
            "57/57 [==============================] - 1s 22ms/step - loss: 0.0222 - accuracy: 0.9937\n",
            "Epoch 28/100\n",
            "57/57 [==============================] - 1s 22ms/step - loss: 0.0189 - accuracy: 0.9952\n",
            "Epoch 29/100\n",
            "57/57 [==============================] - 1s 22ms/step - loss: 0.0353 - accuracy: 0.9918\n",
            "Epoch 30/100\n",
            "57/57 [==============================] - 1s 22ms/step - loss: 0.0709 - accuracy: 0.9873\n",
            "Epoch 31/100\n",
            "57/57 [==============================] - 1s 22ms/step - loss: 0.1156 - accuracy: 0.9799\n",
            "Epoch 32/100\n",
            "57/57 [==============================] - 1s 22ms/step - loss: 0.1105 - accuracy: 0.9821\n"
          ]
        }
      ],
      "source": [
        "import time\n",
        "import tensorflow as tf\n",
        "from tensorflow.keras.models import Sequential\n",
        "from tensorflow.keras.layers import Dense\n",
        "from tcn import TCN\n",
        "\n",
        "\n",
        "input_shape = (64, 192)  # Sequence length (time steps) x Number of features\n",
        "\n",
        "# Build the TCN model\n",
        "model_tcn = Sequential([\n",
        "    TCN(64, kernel_size=3, padding='causal', activation='relu', input_shape=input_shape),\n",
        "    Dense(32, activation='relu'),\n",
        "    Dense(1, activation='sigmoid')\n",
        "])\n",
        "\n",
        "model_tcn.compile(optimizer='adam', loss='binary_crossentropy', metrics=['accuracy'])\n",
        "\n",
        "\n",
        "X_train_tcn = X_train.reshape(-1, input_shape[0], input_shape[1])\n",
        "\n",
        "\n",
        "# Train the model\n",
        "Time_tcn= time.time()\n",
        "model_tcn.fit(X_train_tcn, y_train_numeric, batch_size=250, epochs=100, callbacks=[early_stopping])\n",
        "Time_tcn = time.time() - Time_tcn\n"
      ]
    },
    {
      "cell_type": "code",
      "execution_count": null,
      "metadata": {
        "execution": {
          "iopub.execute_input": "2023-08-09T06:29:45.685511Z",
          "iopub.status.busy": "2023-08-09T06:29:45.685151Z",
          "iopub.status.idle": "2023-08-09T06:29:45.694022Z",
          "shell.execute_reply": "2023-08-09T06:29:45.693022Z",
          "shell.execute_reply.started": "2023-08-09T06:29:45.685473Z"
        },
        "id": "ar3PiiDY6pPU",
        "outputId": "cbde5413-2918-4af1-e2e6-e4c0c2921d53"
      },
      "outputs": [
        {
          "data": {
            "text/plain": [
              "14208"
            ]
          },
          "execution_count": 21,
          "metadata": {},
          "output_type": "execute_result"
        }
      ],
      "source": [
        "len(X_train_tcn)"
      ]
    },
    {
      "cell_type": "code",
      "execution_count": null,
      "metadata": {
        "execution": {
          "iopub.execute_input": "2023-08-09T06:29:45.696186Z",
          "iopub.status.busy": "2023-08-09T06:29:45.695514Z",
          "iopub.status.idle": "2023-08-09T06:30:22.154998Z",
          "shell.execute_reply": "2023-08-09T06:30:22.153908Z",
          "shell.execute_reply.started": "2023-08-09T06:29:45.696148Z"
        },
        "id": "R34IKlGL6pPU",
        "outputId": "9048f870-ecdb-43e2-a9ef-6f85cf47cefc"
      },
      "outputs": [
        {
          "name": "stdout",
          "output_type": "stream",
          "text": [
            "111/111 [==============================] - 1s 4ms/step - loss: 0.4325 - accuracy: 0.9620\n"
          ]
        }
      ],
      "source": [
        "X_test_tcn = X_test.reshape(-1,input_shape[0],input_shape[1])\n",
        "loss, accuracy = model_tcn.evaluate(X_test_tcn, y_test_numeric)"
      ]
    },
    {
      "cell_type": "markdown",
      "metadata": {
        "id": "0ziuo3TQ6pPU"
      },
      "source": [
        "---\n",
        "# Perfomance Metrics\n",
        "- Accuracy\n",
        "- Precision\n",
        "- Recall\n",
        "- F1 Score\n",
        "- AUC\n",
        "- Execution Time"
      ]
    },
    {
      "cell_type": "code",
      "execution_count": null,
      "metadata": {
        "execution": {
          "iopub.execute_input": "2023-08-09T06:30:22.159599Z",
          "iopub.status.busy": "2023-08-09T06:30:22.158703Z",
          "iopub.status.idle": "2023-08-09T06:30:22.169728Z",
          "shell.execute_reply": "2023-08-09T06:30:22.168719Z",
          "shell.execute_reply.started": "2023-08-09T06:30:22.159558Z"
        },
        "id": "-H6LJdp86pPX"
      },
      "outputs": [],
      "source": [
        "import time\n",
        "from sklearn.metrics import accuracy_score, precision_score, recall_score, f1_score, roc_auc_score\n",
        "\n",
        "def evaluate_trained_model(model, X_test, y_test):\n",
        "    # Before evaluating the model, record the start time\n",
        "    start_time = time.time()\n",
        "\n",
        "    # Predict on the test data\n",
        "    y_pred = model.predict(X_test)\n",
        "\n",
        "    # Convert predicted probabilities to class labels (0 or 1) if the model's final activation function is 'sigmoid'\n",
        "    y_pred_classes = (y_pred > 0.5).astype(int)\n",
        "\n",
        "    # Calculate the metrics\n",
        "    accuracy = accuracy_score(y_test, y_pred_classes)\n",
        "    precision = precision_score(y_test, y_pred_classes)\n",
        "    recall = recall_score(y_test, y_pred_classes)\n",
        "    f1 = f1_score(y_test, y_pred_classes)\n",
        "    auc = roc_auc_score(y_test, y_pred)\n",
        "    execution_time = time.time() - start_time\n",
        "\n",
        "    # Create a dictionary to store the results\n",
        "    results = {\n",
        "        \"Accuracy\": accuracy,\n",
        "        \"Precision\": precision,\n",
        "        \"Recall\": recall,\n",
        "        \"F1 Score\": f1,\n",
        "        \"AUC\": auc,\n",
        "    }\n",
        "\n",
        "    print(f\"Accuracy: {100*results['Accuracy']}\")\n",
        "    print(f\"Precision: {100*results['Precision']}\")\n",
        "    print(f\"Recall: {100*results['Recall']}\")\n",
        "    print(f\"F1 Score: {100*results['F1 Score']}\")\n",
        "    print(f\"AUC: {100*results['AUC']}\")"
      ]
    },
    {
      "cell_type": "code",
      "execution_count": null,
      "metadata": {
        "execution": {
          "iopub.execute_input": "2023-08-09T06:30:22.172039Z",
          "iopub.status.busy": "2023-08-09T06:30:22.171681Z",
          "iopub.status.idle": "2023-08-09T06:30:22.194398Z",
          "shell.execute_reply": "2023-08-09T06:30:22.193490Z",
          "shell.execute_reply.started": "2023-08-09T06:30:22.172008Z"
        },
        "id": "ymLg5KWb6pPX"
      },
      "outputs": [],
      "source": [
        "import time\n",
        "import numpy as np\n",
        "import tensorflow as tf\n",
        "from sklearn.metrics import roc_auc_score\n",
        "\n",
        "def evaluate_lstm_gru_model(model, x_data, y_true):\n",
        "    y_pred_probs = model.predict(x_data)\n",
        "\n",
        "    y_pred_positive_probs = y_pred_probs[:, 1]\n",
        "\n",
        "    y_pred_binary = np.where(y_pred_positive_probs > 0.5, 1, 0)\n",
        "\n",
        "    # True Positives, False Positives, True Negatives, False Negatives\n",
        "    tp = np.sum((y_true == 1) & (y_pred_binary == 1))\n",
        "    fp = np.sum((y_true == 0) & (y_pred_binary == 1))\n",
        "    tn = np.sum((y_true == 0) & (y_pred_binary == 0))\n",
        "    fn = np.sum((y_true == 1) & (y_pred_binary == 0))\n",
        "\n",
        "    # Accuracy\n",
        "    accuracy = (tp + tn) / (tp + tn + fp + fn)\n",
        "\n",
        "    # Precision\n",
        "    precision = tp / (tp + fp)\n",
        "\n",
        "    # Recall\n",
        "    recall = tp / (tp + fn)\n",
        "\n",
        "    # F1 Score\n",
        "    f1 = 2 * (precision * recall) / (precision + recall)\n",
        "    auc = roc_auc_score(y_true, y_pred_binary)\n",
        "\n",
        "\n",
        "    # Print the calculated metrics\n",
        "    print(f\"Accuracy: {accuracy * 100}%\")\n",
        "    print(f\"Precision: {precision * 100}%\")\n",
        "    print(f\"Recall: {recall * 100}%\")\n",
        "    print(f\"F1 Score: {f1 * 100}%\")\n",
        "    print(f\"AUC: {auc * 100}%\")\n",
        "\n"
      ]
    },
    {
      "cell_type": "markdown",
      "metadata": {
        "id": "4ws9vrlI6pPX"
      },
      "source": [
        "### 1. CNN\n"
      ]
    },
    {
      "cell_type": "code",
      "execution_count": null,
      "metadata": {
        "execution": {
          "iopub.execute_input": "2023-08-09T06:30:22.195752Z",
          "iopub.status.busy": "2023-08-09T06:30:22.195469Z",
          "iopub.status.idle": "2023-08-09T06:30:22.771284Z",
          "shell.execute_reply": "2023-08-09T06:30:22.770221Z",
          "shell.execute_reply.started": "2023-08-09T06:30:22.195721Z"
        },
        "id": "EjOxpCbf6pPY",
        "outputId": "212d82d7-c07b-4c25-908a-575728010562"
      },
      "outputs": [
        {
          "name": "stdout",
          "output_type": "stream",
          "text": [
            "111/111 [==============================] - 0s 2ms/step\n",
            "Accuracy: 94.115990990991\n",
            "Precision: 96.45006016847172\n",
            "Recall: 91.44324015972617\n",
            "F1 Score: 93.87994143484626\n",
            "AUC: 98.09411135742205\n",
            "Evaluated Time: 57.80364775657654 seconds\n"
          ]
        }
      ],
      "source": [
        "evaluate_trained_model(model_cnn,X_test,y_test_numeric)\n",
        "print(f\"Evaluated Time: {Time_cnn} seconds\")"
      ]
    },
    {
      "cell_type": "markdown",
      "metadata": {
        "id": "k06xfAiq6pPY"
      },
      "source": [
        "### 2. LSTM"
      ]
    },
    {
      "cell_type": "code",
      "execution_count": null,
      "metadata": {
        "execution": {
          "iopub.execute_input": "2023-08-09T06:30:22.773011Z",
          "iopub.status.busy": "2023-08-09T06:30:22.772648Z",
          "iopub.status.idle": "2023-08-09T06:30:22.779686Z",
          "shell.execute_reply": "2023-08-09T06:30:22.778752Z",
          "shell.execute_reply.started": "2023-08-09T06:30:22.772977Z"
        },
        "id": "cfwxsocy6pPY",
        "outputId": "cdcb8d5b-0cb3-468a-97e0-49f79d68438e"
      },
      "outputs": [
        {
          "data": {
            "text/plain": [
              "1799"
            ]
          },
          "execution_count": 26,
          "metadata": {},
          "output_type": "execute_result"
        }
      ],
      "source": [
        "np.count_nonzero(y_test_numeric == 0)"
      ]
    },
    {
      "cell_type": "code",
      "execution_count": null,
      "metadata": {
        "execution": {
          "iopub.execute_input": "2023-08-09T06:30:22.781733Z",
          "iopub.status.busy": "2023-08-09T06:30:22.780984Z",
          "iopub.status.idle": "2023-08-09T06:30:22.792019Z",
          "shell.execute_reply": "2023-08-09T06:30:22.790986Z",
          "shell.execute_reply.started": "2023-08-09T06:30:22.781701Z"
        },
        "id": "vUyzV-4B6pPY",
        "outputId": "696f912b-57f1-4e18-c45e-aab8106d27b6"
      },
      "outputs": [
        {
          "data": {
            "text/plain": [
              "1753"
            ]
          },
          "execution_count": 27,
          "metadata": {},
          "output_type": "execute_result"
        }
      ],
      "source": [
        "np.count_nonzero(y_test_numeric == 1)"
      ]
    },
    {
      "cell_type": "code",
      "execution_count": null,
      "metadata": {
        "execution": {
          "iopub.execute_input": "2023-08-09T06:30:22.798300Z",
          "iopub.status.busy": "2023-08-09T06:30:22.797931Z",
          "iopub.status.idle": "2023-08-09T06:30:22.804944Z",
          "shell.execute_reply": "2023-08-09T06:30:22.803915Z",
          "shell.execute_reply.started": "2023-08-09T06:30:22.798277Z"
        },
        "id": "VywffBY26pPZ",
        "outputId": "dd6eeb73-3bc3-48f3-86d6-95d5d68b93f9"
      },
      "outputs": [
        {
          "data": {
            "text/plain": [
              "1"
            ]
          },
          "execution_count": 28,
          "metadata": {},
          "output_type": "execute_result"
        }
      ],
      "source": [
        "y_test_numeric[2500]"
      ]
    },
    {
      "cell_type": "code",
      "execution_count": null,
      "metadata": {
        "execution": {
          "iopub.execute_input": "2023-08-09T06:30:22.806714Z",
          "iopub.status.busy": "2023-08-09T06:30:22.806122Z",
          "iopub.status.idle": "2023-08-09T06:30:22.817649Z",
          "shell.execute_reply": "2023-08-09T06:30:22.816735Z",
          "shell.execute_reply.started": "2023-08-09T06:30:22.806574Z"
        },
        "id": "Frvaoj0L6pPZ",
        "outputId": "a672a299-c4d7-483e-b874-041e683bb071"
      },
      "outputs": [
        {
          "data": {
            "text/plain": [
              "(3552,)"
            ]
          },
          "execution_count": 29,
          "metadata": {},
          "output_type": "execute_result"
        }
      ],
      "source": [
        "y_test_numeric.shape"
      ]
    },
    {
      "cell_type": "code",
      "execution_count": null,
      "metadata": {
        "execution": {
          "iopub.execute_input": "2023-08-09T06:30:22.820471Z",
          "iopub.status.busy": "2023-08-09T06:30:22.819719Z",
          "iopub.status.idle": "2023-08-09T06:30:22.828219Z",
          "shell.execute_reply": "2023-08-09T06:30:22.827210Z",
          "shell.execute_reply.started": "2023-08-09T06:30:22.820429Z"
        },
        "id": "orKSMPxk6pPa",
        "outputId": "e4b8e274-3e75-4129-ac01-98e24a7e3f7f"
      },
      "outputs": [
        {
          "data": {
            "text/plain": [
              "dtype('int64')"
            ]
          },
          "execution_count": 30,
          "metadata": {},
          "output_type": "execute_result"
        }
      ],
      "source": [
        "y_test_numeric.dtype"
      ]
    },
    {
      "cell_type": "code",
      "execution_count": null,
      "metadata": {
        "_kg_hide-output": true,
        "execution": {
          "iopub.execute_input": "2023-08-09T06:30:22.830657Z",
          "iopub.status.busy": "2023-08-09T06:30:22.830214Z",
          "iopub.status.idle": "2023-08-09T06:30:38.255141Z",
          "shell.execute_reply": "2023-08-09T06:30:38.254126Z",
          "shell.execute_reply.started": "2023-08-09T06:30:22.830624Z"
        },
        "id": "jVXQfoL86pPa",
        "outputId": "377c08d4-e070-4ba5-8b85-2d57c4b232b6"
      },
      "outputs": [
        {
          "name": "stdout",
          "output_type": "stream",
          "text": [
            "111/111 [==============================] - 15s 134ms/step\n",
            "Accuracy: 94.00337837837837%\n",
            "Precision: 96.27403846153845%\n",
            "Recall: 91.38619509412436%\n",
            "F1 Score: 93.76646180860403%\n",
            "AUC: 93.96991800287095%\n",
            "Evaluated Time: 53.39798504114151 minutes\n"
          ]
        }
      ],
      "source": [
        "evaluate_lstm_gru_model(model_lstm,X_test_lstm,y_test_numeric)\n",
        "print(f\"Evaluated Time: {Time_lstm/60} minutes\")"
      ]
    },
    {
      "cell_type": "markdown",
      "metadata": {
        "id": "V_mPocOw6pPa"
      },
      "source": [
        "### 3. GRU"
      ]
    },
    {
      "cell_type": "code",
      "execution_count": null,
      "metadata": {
        "execution": {
          "iopub.execute_input": "2023-08-09T06:30:38.258380Z",
          "iopub.status.busy": "2023-08-09T06:30:38.257787Z",
          "iopub.status.idle": "2023-08-09T06:30:52.854149Z",
          "shell.execute_reply": "2023-08-09T06:30:52.853113Z",
          "shell.execute_reply.started": "2023-08-09T06:30:38.258345Z"
        },
        "id": "tSgumuFA6pPa",
        "outputId": "7c868cef-6d91-4d28-8744-2f0d7f10a2fe"
      },
      "outputs": [
        {
          "name": "stdout",
          "output_type": "stream",
          "text": [
            "111/111 [==============================] - 14s 127ms/step\n",
            "Accuracy: 97.49436936936937%\n",
            "Precision: 96.37681159420289%\n",
            "Recall: 98.63091842555619%\n",
            "F1 Score: 97.49083732731886%\n",
            "AUC: 97.50890001322277%\n",
            "Evaluated Time: 47.39826732476552 minutes\n"
          ]
        }
      ],
      "source": [
        "evaluate_lstm_gru_model(model_gru,X_test_gru,y_test_numeric)\n",
        "print(f\"Evaluated Time: {Time_gru/60} minutes\")"
      ]
    },
    {
      "cell_type": "markdown",
      "metadata": {
        "id": "ZVDKnmcE6pPa"
      },
      "source": [
        "### 4. MLP"
      ]
    },
    {
      "cell_type": "code",
      "execution_count": null,
      "metadata": {
        "execution": {
          "iopub.execute_input": "2023-08-09T06:30:52.856090Z",
          "iopub.status.busy": "2023-08-09T06:30:52.855713Z",
          "iopub.status.idle": "2023-08-09T06:30:53.336194Z",
          "shell.execute_reply": "2023-08-09T06:30:53.335160Z",
          "shell.execute_reply.started": "2023-08-09T06:30:52.856057Z"
        },
        "id": "29GpB_JQ6pPa",
        "outputId": "716383ce-c0bd-4365-cc81-d4909b54d89b"
      },
      "outputs": [
        {
          "name": "stdout",
          "output_type": "stream",
          "text": [
            "111/111 [==============================] - 0s 2ms/step\n",
            "Accuracy: 93.35585585585585\n",
            "Precision: 95.88626739261949\n",
            "Recall: 90.41642897889332\n",
            "F1 Score: 93.07105108631826\n",
            "AUC: 98.08136421102299\n",
            "Evaluated Time: 10.6338472366333 seconds\n"
          ]
        }
      ],
      "source": [
        "evaluate_trained_model(model_mlp,X_test,y_test_numeric)\n",
        "print(f\"Evaluated Time: {Time_mlp} seconds\")"
      ]
    },
    {
      "cell_type": "markdown",
      "metadata": {
        "id": "rX3ysvGE6pPb"
      },
      "source": [
        "### 5. TCN"
      ]
    },
    {
      "cell_type": "code",
      "execution_count": null,
      "metadata": {
        "execution": {
          "iopub.execute_input": "2023-08-09T06:43:44.264575Z",
          "iopub.status.busy": "2023-08-09T06:43:44.264190Z",
          "iopub.status.idle": "2023-08-09T06:43:45.043964Z",
          "shell.execute_reply": "2023-08-09T06:43:45.042881Z",
          "shell.execute_reply.started": "2023-08-09T06:43:44.264543Z"
        },
        "id": "qvrST3pE6pPb",
        "outputId": "2ac178b5-ab58-44d3-8f8b-7025069ce8bb"
      },
      "outputs": [
        {
          "name": "stdout",
          "output_type": "stream",
          "text": [
            "111/111 [==============================] - 0s 4ms/step\n",
            "Accuracy: 96.19932432432432\n",
            "Precision: 95.4494382022472\n",
            "Recall: 96.91956645750143\n",
            "F1 Score: 96.17888480045288\n",
            "AUC: 98.7713590011818\n",
            "Evaluated Time: 50.606406450271606 seconds\n"
          ]
        }
      ],
      "source": [
        "evaluate_trained_model(model_tcn,X_test_tcn,y_test_numeric)\n",
        "print(f\"Evaluated Time: {Time_tcn} seconds\")"
      ]
    }
  ],
  "metadata": {
    "kernelspec": {
      "display_name": "Python 3 (ipykernel)",
      "language": "python",
      "name": "python3"
    },
    "language_info": {
      "codemirror_mode": {
        "name": "ipython",
        "version": 3
      },
      "file_extension": ".py",
      "mimetype": "text/x-python",
      "name": "python",
      "nbconvert_exporter": "python",
      "pygments_lexer": "ipython3",
      "version": "3.10.11"
    },
    "colab": {
      "provenance": []
    }
  },
  "nbformat": 4,
  "nbformat_minor": 0
}