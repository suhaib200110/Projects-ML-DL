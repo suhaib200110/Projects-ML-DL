{
  "nbformat": 4,
  "nbformat_minor": 0,
  "metadata": {
    "colab": {
      "provenance": [],
      "machine_shape": "hm",
      "authorship_tag": "ABX9TyPnJZSM96+udnbSppGEAnYh"
    },
    "kernelspec": {
      "name": "python3",
      "display_name": "Python 3"
    },
    "language_info": {
      "name": "python"
    }
  },
  "cells": [
    {
      "cell_type": "code",
      "execution_count": null,
      "metadata": {
        "id": "5EUsE8ty-XDc"
      },
      "outputs": [],
      "source": [
        "!pip install roboflow\n",
        "\n",
        "from roboflow import Roboflow\n",
        "rf = Roboflow(api_key=\"HH9ECnEeBwB663gIBlcY\")\n",
        "project = rf.workspace(\"brad-dwyer\").project(\"pklot-1tros\")\n",
        "version = project.version(2)\n",
        "dataset = version.download(\"multiclass\")"
      ]
    },
    {
      "cell_type": "markdown",
      "source": [
        "# Data Preprocessing"
      ],
      "metadata": {
        "id": "gkm_opTa-o2e"
      }
    },
    {
      "cell_type": "code",
      "source": [
        "import pandas as pd\n",
        "from sklearn.metrics import accuracy_score, precision_score, recall_score, f1_score, roc_auc_score\n",
        "from sklearn.model_selection import train_test_split\n",
        "# from sklearn.linear_model import LogisticRegression\n",
        "# from sklearn.ensemble import RandomForestClassifier\n",
        "df_train_org = pd.read_csv('/content/PKLot-2/train/_classes.csv')\n",
        "df_test_org = pd.read_csv('/content/PKLot-2/test/_classes.csv')"
      ],
      "metadata": {
        "id": "ckY_oTU7eTwc"
      },
      "execution_count": null,
      "outputs": []
    },
    {
      "cell_type": "code",
      "source": [
        "df_train_org.columns"
      ],
      "metadata": {
        "colab": {
          "base_uri": "https://localhost:8080/"
        },
        "id": "8MynVkep_KP4",
        "outputId": "4271b7fa-bf06-4bcc-9137-cab22ea34190"
      },
      "execution_count": null,
      "outputs": [
        {
          "output_type": "execute_result",
          "data": {
            "text/plain": [
              "Index(['filename', ' space-empty', ' space-occupied'], dtype='object')"
            ]
          },
          "metadata": {},
          "execution_count": 4
        }
      ]
    },
    {
      "cell_type": "code",
      "source": [
        "#Changing dataframe (train)\n",
        "import pandas as pd\n",
        "from PIL import Image\n",
        "import numpy as np\n",
        "%cd /content/PKLot-2/train\n",
        "# Read the CSV file (assuming it's named 'parking_data.csv')\n",
        "df = df_train_org\n",
        "# df = pd.read_csv(csv_file)\n",
        "\n",
        "# Initialize empty lists to store image data and labels\n",
        "image_data = []\n",
        "space_empty_labels = []\n",
        "space_occupied_labels = []\n",
        "\n",
        "# Load images and convert to NumPy arrays\n",
        "for filename, filled, empty in zip(df['filename'], df[' space-occupied'], df[' space-empty']):\n",
        "    img = Image.open(filename)\n",
        "    img_array = np.array(img)\n",
        "    image_data.append(img_array)\n",
        "    space_occupied_labels.append(filled)\n",
        "    space_empty_labels.append(empty)\n",
        "\n",
        "# Create a new DataFrame\n",
        "train_df = pd.DataFrame({\n",
        "    'data': image_data,\n",
        "    'space-occupied': space_occupied_labels,\n",
        "    'space-empty': space_empty_labels\n",
        "})\n",
        "\n",
        "# Now 'new_df' contains the desired DataFrame with image data and labels\n",
        "# print(new_df.head())  # Display the first few rows\n"
      ],
      "metadata": {
        "colab": {
          "base_uri": "https://localhost:8080/"
        },
        "id": "cvKXNu2r-n-U",
        "outputId": "acb6df2b-95da-439b-985e-00cbc74de0b6"
      },
      "execution_count": null,
      "outputs": [
        {
          "output_type": "stream",
          "name": "stdout",
          "text": [
            "/content/PKLot-2/train\n"
          ]
        }
      ]
    },
    {
      "cell_type": "code",
      "source": [
        "X_train = train_df['data']"
      ],
      "metadata": {
        "id": "-Qj1t174BcXG"
      },
      "execution_count": null,
      "outputs": []
    },
    {
      "cell_type": "code",
      "source": [],
      "metadata": {
        "id": "vd--CleIHN9a"
      },
      "execution_count": null,
      "outputs": []
    },
    {
      "cell_type": "code",
      "source": [
        "X_train[0].shape"
      ],
      "metadata": {
        "id": "cwfuzJ6TExYO"
      },
      "execution_count": null,
      "outputs": []
    },
    {
      "cell_type": "code",
      "source": [
        "import cv2\n",
        "for i in range(len(X_train)):\n",
        "    X_train[i] = cv2.resize(X_train[i], (120, 120))"
      ],
      "metadata": {
        "id": "oWdqhJU_E4KE"
      },
      "execution_count": null,
      "outputs": []
    },
    {
      "cell_type": "code",
      "source": [],
      "metadata": {
        "id": "TL8AUpowG9RC"
      },
      "execution_count": null,
      "outputs": []
    },
    {
      "cell_type": "code",
      "source": [
        "X_train[178].shape"
      ],
      "metadata": {
        "colab": {
          "base_uri": "https://localhost:8080/"
        },
        "id": "9pnqop5gFOgt",
        "outputId": "0f6cf553-04e2-4f0e-9952-74ccab5667b8"
      },
      "execution_count": null,
      "outputs": [
        {
          "output_type": "execute_result",
          "data": {
            "text/plain": [
              "(120, 120, 3)"
            ]
          },
          "metadata": {},
          "execution_count": 7
        }
      ]
    },
    {
      "cell_type": "code",
      "source": [
        "len(X_train)"
      ],
      "metadata": {
        "colab": {
          "base_uri": "https://localhost:8080/"
        },
        "id": "XHtfiW3-F0i5",
        "outputId": "10a5f32f-212d-4157-ad47-3e3c2a6b3c1d"
      },
      "execution_count": null,
      "outputs": [
        {
          "output_type": "execute_result",
          "data": {
            "text/plain": [
              "8691"
            ]
          },
          "metadata": {},
          "execution_count": 8
        }
      ]
    },
    {
      "cell_type": "code",
      "source": [
        "#Changing dataframe (test)\n",
        "import pandas as pd\n",
        "from PIL import Image\n",
        "import numpy as np\n",
        "%cd /content/PKLot-2/test\n",
        "# Read the CSV file (assuming it's named 'parking_data.csv')\n",
        "df = df_test_org\n",
        "# df = pd.read_csv(csv_file)\n",
        "\n",
        "# Initialize empty lists to store image data and labels\n",
        "image_data = []\n",
        "space_empty_labels = []\n",
        "space_occupied_labels = []\n",
        "\n",
        "# Load images and convert to NumPy arrays\n",
        "for filename, filled, empty in zip(df['filename'], df[' space-occupied'], df[' space-empty']):\n",
        "    img = Image.open(filename)\n",
        "    img_array = np.array(img)\n",
        "    image_data.append(img_array)\n",
        "    space_occupied_labels.append(filled)\n",
        "    space_empty_labels.append(empty)\n",
        "\n",
        "# Create a new DataFrame\n",
        "test_df = pd.DataFrame({\n",
        "    'data': image_data,\n",
        "    'space-occupied': space_occupied_labels,\n",
        "    'space-empty': space_empty_labels\n",
        "})\n"
      ],
      "metadata": {
        "id": "mnVeTZo3GcGY"
      },
      "execution_count": null,
      "outputs": []
    },
    {
      "cell_type": "code",
      "source": [
        "X_test = test_df['data']"
      ],
      "metadata": {
        "id": "jLQV_J88HaD-"
      },
      "execution_count": null,
      "outputs": []
    },
    {
      "cell_type": "code",
      "source": [
        "import cv2\n",
        "for i in range(len(X_test)):\n",
        "    X_test[i] = cv2.resize(X_test[i], (120, 120))"
      ],
      "metadata": {
        "id": "8Wn952mfHeDa"
      },
      "execution_count": null,
      "outputs": []
    },
    {
      "cell_type": "code",
      "source": [
        "# # X_train = train_df['data']\n",
        "# y_train = train_df[[ 'space-occupied', 'space-empty']]\n",
        "# # X_test = test_df['data']\n",
        "# y_test = test_df[[ 'space-occupied', 'space-empty']]"
      ],
      "metadata": {
        "id": "QS4wLFxXHI0i"
      },
      "execution_count": null,
      "outputs": []
    },
    {
      "cell_type": "code",
      "source": [
        "from sklearn import svm\n",
        "from sklearn.model_selection import train_test_split\n",
        "from sklearn.metrics import accuracy_score\n",
        "import numpy as np\n",
        "import pandas as pd\n",
        "\n",
        "# train_df['combined'] = train_df.apply(lambda row: np.array([row['space-occupied'], row['space-empty']]), axis=1)\n",
        "train_df['combined'] = train_df['space-occupied'] * 2 + train_df['space-empty']\n",
        "test_df['combined'] = test_df['space-occupied'] * 2 + test_df['space-empty']\n",
        "\n",
        "# Split the data into a training set and a test set\n",
        "# X_train, X_test, y_train, y_test = train_test_split(train_df['data'], train_df['combined'], test_size=0.3, random_state=1)"
      ],
      "metadata": {
        "id": "lFiFRqpfau5O"
      },
      "execution_count": null,
      "outputs": []
    },
    {
      "cell_type": "code",
      "source": [
        "y_train = train_df['combined']\n",
        "y_test = test_df['combined']"
      ],
      "metadata": {
        "id": "uGRWxrCCHuAX"
      },
      "execution_count": null,
      "outputs": []
    },
    {
      "cell_type": "code",
      "source": [
        "np.unique(y_train)"
      ],
      "metadata": {
        "colab": {
          "base_uri": "https://localhost:8080/"
        },
        "id": "qefcS-aZJvMc",
        "outputId": "81c821e9-0142-4cb9-83c8-ad6ef257f2a3"
      },
      "execution_count": null,
      "outputs": [
        {
          "output_type": "execute_result",
          "data": {
            "text/plain": [
              "array([0, 1, 2, 3])"
            ]
          },
          "metadata": {},
          "execution_count": 14
        }
      ]
    },
    {
      "cell_type": "code",
      "source": [
        "len(X_train)"
      ],
      "metadata": {
        "colab": {
          "base_uri": "https://localhost:8080/"
        },
        "id": "0BYJofmTHxsN",
        "outputId": "4df8514e-8de3-4670-c496-c7e9a4c4b52f"
      },
      "execution_count": null,
      "outputs": [
        {
          "output_type": "execute_result",
          "data": {
            "text/plain": [
              "8691"
            ]
          },
          "metadata": {},
          "execution_count": 14
        }
      ]
    },
    {
      "cell_type": "code",
      "source": [
        "len(y_train)"
      ],
      "metadata": {
        "colab": {
          "base_uri": "https://localhost:8080/"
        },
        "id": "5F7iU-qyH1zV",
        "outputId": "8472f8e6-6c06-428d-fee3-877f764d4ad0"
      },
      "execution_count": null,
      "outputs": [
        {
          "output_type": "execute_result",
          "data": {
            "text/plain": [
              "8691"
            ]
          },
          "metadata": {},
          "execution_count": 15
        }
      ]
    },
    {
      "cell_type": "code",
      "source": [
        "X_train[0].shape"
      ],
      "metadata": {
        "colab": {
          "base_uri": "https://localhost:8080/"
        },
        "id": "BPltDob8H4qJ",
        "outputId": "6a1cd734-09f0-4feb-c0f7-ceffe733d9dc"
      },
      "execution_count": null,
      "outputs": [
        {
          "output_type": "execute_result",
          "data": {
            "text/plain": [
              "(120, 120, 3)"
            ]
          },
          "metadata": {},
          "execution_count": 16
        }
      ]
    },
    {
      "cell_type": "code",
      "source": [
        "X_train_np = X_train.to_numpy()\n",
        "X_test_np = X_test.to_numpy()"
      ],
      "metadata": {
        "id": "7cOe1WU8LvIq"
      },
      "execution_count": null,
      "outputs": []
    },
    {
      "cell_type": "code",
      "source": [
        "X_train_np[0]"
      ],
      "metadata": {
        "colab": {
          "base_uri": "https://localhost:8080/",
          "height": 160
        },
        "id": "gJtjD_jgII8-",
        "outputId": "01d87ae6-27d2-45e5-c5b9-25aa48c21048"
      },
      "execution_count": null,
      "outputs": [
        {
          "output_type": "execute_result",
          "data": {
            "text/plain": [
              "array([[[ 98,  96,  94],\n",
              "        [ 41,  34,  38],\n",
              "        [ 83,  72,  64],\n",
              "        ...,\n",
              "        [ 71,  80,  28],\n",
              "        [ 62,  67,  38],\n",
              "        [ 52,  58,  22]],\n",
              "\n",
              "       [[115, 103,  96],\n",
              "        [116, 104,  99],\n",
              "        [118, 105, 103],\n",
              "        ...,\n",
              "        [ 89,  96,  44],\n",
              "        [ 65,  70,  28],\n",
              "        [ 76,  82,  36]],\n",
              "\n",
              "       [[119, 108, 105],\n",
              "        [103,  99,  80],\n",
              "        [116, 116, 100],\n",
              "        ...,\n",
              "        [ 98, 104,  50],\n",
              "        [ 85,  89,  34],\n",
              "        [101, 106,  50]],\n",
              "\n",
              "       ...,\n",
              "\n",
              "       [[139, 135, 132],\n",
              "        [139, 130, 120],\n",
              "        [123, 105, 100],\n",
              "        ...,\n",
              "        [ 73,  59,  50],\n",
              "        [113,  97,  84],\n",
              "        [124, 106,  94]],\n",
              "\n",
              "       [[149, 149, 144],\n",
              "        [154, 147, 136],\n",
              "        [155, 151, 142],\n",
              "        ...,\n",
              "        [ 88,  73,  66],\n",
              "        [109,  91,  88],\n",
              "        [127, 109,  97]],\n",
              "\n",
              "       [[167, 159, 157],\n",
              "        [140, 121, 114],\n",
              "        [121, 117, 108],\n",
              "        ...,\n",
              "        [ 93,  78,  70],\n",
              "        [121, 102, 106],\n",
              "        [118, 100,  86]]], dtype=uint8)"
            ],
            "text/html": [
              "<style>\n",
              "      .ndarray_repr .ndarray_raw_data {\n",
              "        display: none;\n",
              "      }\n",
              "      .ndarray_repr.show_array .ndarray_raw_data {\n",
              "        display: block;\n",
              "      }\n",
              "      .ndarray_repr.show_array .ndarray_image_preview {\n",
              "        display: none;\n",
              "      }\n",
              "      </style>\n",
              "      <div id=\"id-34e828af-18c4-46f3-9f23-cbc5b10530e9\" class=\"ndarray_repr\"><pre>ndarray (120, 120, 3) <button style=\"padding: 0 2px;\">show data</button></pre><img src=\"data:image/png;base64,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\" class=\"ndarray_image_preview\" /><pre class=\"ndarray_raw_data\">array([[[ 98,  96,  94],\n",
              "        [ 41,  34,  38],\n",
              "        [ 83,  72,  64],\n",
              "        ...,\n",
              "        [ 71,  80,  28],\n",
              "        [ 62,  67,  38],\n",
              "        [ 52,  58,  22]],\n",
              "\n",
              "       [[115, 103,  96],\n",
              "        [116, 104,  99],\n",
              "        [118, 105, 103],\n",
              "        ...,\n",
              "        [ 89,  96,  44],\n",
              "        [ 65,  70,  28],\n",
              "        [ 76,  82,  36]],\n",
              "\n",
              "       [[119, 108, 105],\n",
              "        [103,  99,  80],\n",
              "        [116, 116, 100],\n",
              "        ...,\n",
              "        [ 98, 104,  50],\n",
              "        [ 85,  89,  34],\n",
              "        [101, 106,  50]],\n",
              "\n",
              "       ...,\n",
              "\n",
              "       [[139, 135, 132],\n",
              "        [139, 130, 120],\n",
              "        [123, 105, 100],\n",
              "        ...,\n",
              "        [ 73,  59,  50],\n",
              "        [113,  97,  84],\n",
              "        [124, 106,  94]],\n",
              "\n",
              "       [[149, 149, 144],\n",
              "        [154, 147, 136],\n",
              "        [155, 151, 142],\n",
              "        ...,\n",
              "        [ 88,  73,  66],\n",
              "        [109,  91,  88],\n",
              "        [127, 109,  97]],\n",
              "\n",
              "       [[167, 159, 157],\n",
              "        [140, 121, 114],\n",
              "        [121, 117, 108],\n",
              "        ...,\n",
              "        [ 93,  78,  70],\n",
              "        [121, 102, 106],\n",
              "        [118, 100,  86]]], dtype=uint8)</pre></div><script>\n",
              "      (() => {\n",
              "      const titles = ['show data', 'hide data'];\n",
              "      let index = 0\n",
              "      document.querySelector('#id-34e828af-18c4-46f3-9f23-cbc5b10530e9 button').onclick = (e) => {\n",
              "        document.querySelector('#id-34e828af-18c4-46f3-9f23-cbc5b10530e9').classList.toggle('show_array');\n",
              "        index = (++index) % 2;\n",
              "        document.querySelector('#id-34e828af-18c4-46f3-9f23-cbc5b10530e9 button').textContent = titles[index];\n",
              "        e.preventDefault();\n",
              "        e.stopPropagation();\n",
              "      }\n",
              "      })();\n",
              "    </script>"
            ]
          },
          "metadata": {},
          "execution_count": 18
        }
      ]
    },
    {
      "cell_type": "code",
      "source": [
        "y_train = np.array(y_train)\n",
        "y_test = np.array(y_test)"
      ],
      "metadata": {
        "id": "PAy5zi1ranMt"
      },
      "execution_count": null,
      "outputs": []
    },
    {
      "cell_type": "code",
      "source": [
        "# from sklearn.tree import DecisionTreeClassifier\n",
        "# from sklearn.model_selection import train_test_split\n",
        "# from sklearn.preprocessing import StandardScaler\n",
        "# # Flatten the image data into 1D arrays as the classifier performs best on 1D arrays\n",
        "# # X_train_flat = X_train_np.reshape(X_train_np.shape[0], -1)\n",
        "# # X_test_flat = X_test_np.reshape(X_test_np.shape[0], -1)\n",
        "# X_train_flat = X_train_np.reshape(X_train_np.shape[0], -1)\n",
        "# X_test_flat = X_test_np.reshape(X_test_np.shape[0], -1)"
      ],
      "metadata": {
        "id": "ctIbcQUTLWEK"
      },
      "execution_count": null,
      "outputs": []
    },
    {
      "cell_type": "code",
      "source": [
        "# y_train_flat = np.argmax(y_train.values, axis=1)"
      ],
      "metadata": {
        "id": "6JgthbyVQlc2"
      },
      "execution_count": null,
      "outputs": []
    },
    {
      "cell_type": "code",
      "source": [
        "# type(y_train_flat)"
      ],
      "metadata": {
        "id": "Hb44CyDcR0BP"
      },
      "execution_count": null,
      "outputs": []
    },
    {
      "cell_type": "code",
      "source": [
        "# y_train_flat.shape"
      ],
      "metadata": {
        "id": "nldD9_spSIZK"
      },
      "execution_count": null,
      "outputs": []
    },
    {
      "cell_type": "code",
      "source": [
        "# X_train_flat.shape"
      ],
      "metadata": {
        "id": "YON_D28ISOkM"
      },
      "execution_count": null,
      "outputs": []
    },
    {
      "cell_type": "code",
      "source": [
        "# type(X_train_flat)"
      ],
      "metadata": {
        "id": "eR_1dnQ2SQX8"
      },
      "execution_count": null,
      "outputs": []
    },
    {
      "cell_type": "code",
      "source": [
        "# y_train_flat[88]"
      ],
      "metadata": {
        "id": "Lk_Rn5OkXUEj"
      },
      "execution_count": null,
      "outputs": []
    },
    {
      "cell_type": "code",
      "source": [
        "# n_samples = len(X_train_np)\n",
        "# X_train_flat = X_train_np.reshape((n_samples, -1))"
      ],
      "metadata": {
        "id": "MHoGbRJI-C4h"
      },
      "execution_count": null,
      "outputs": []
    },
    {
      "cell_type": "code",
      "source": [
        "# X_train_flat.shape"
      ],
      "metadata": {
        "id": "iT2Kjk4nC6qz"
      },
      "execution_count": null,
      "outputs": []
    },
    {
      "cell_type": "code",
      "source": [
        "y_train.shape"
      ],
      "metadata": {
        "colab": {
          "base_uri": "https://localhost:8080/"
        },
        "id": "xuOmEUu8C-yD",
        "outputId": "377b932e-c732-488b-ed74-6601b5d28867"
      },
      "execution_count": null,
      "outputs": [
        {
          "output_type": "execute_result",
          "data": {
            "text/plain": [
              "(8691,)"
            ]
          },
          "metadata": {},
          "execution_count": 20
        }
      ]
    },
    {
      "cell_type": "code",
      "source": [
        "# non_numeric_cols = train_df.select_dtypes(exclude=[np.number]).columns\n",
        "# print(non_numeric_cols)"
      ],
      "metadata": {
        "id": "WVIlnGitPcWP"
      },
      "execution_count": null,
      "outputs": []
    },
    {
      "cell_type": "code",
      "source": [
        "# type(X_train_flat)"
      ],
      "metadata": {
        "id": "nRYvHylfPtZb"
      },
      "execution_count": null,
      "outputs": []
    },
    {
      "cell_type": "code",
      "source": [
        "# X_train_flat.shape"
      ],
      "metadata": {
        "id": "reXeN9sEZSxn"
      },
      "execution_count": null,
      "outputs": []
    },
    {
      "cell_type": "code",
      "source": [
        "# y_train.shape"
      ],
      "metadata": {
        "id": "X8sbYXFRZUtr"
      },
      "execution_count": null,
      "outputs": []
    },
    {
      "cell_type": "code",
      "source": [
        "# type(X_train_flat)"
      ],
      "metadata": {
        "id": "2wMZaYfBZfWV"
      },
      "execution_count": null,
      "outputs": []
    },
    {
      "cell_type": "code",
      "source": [
        "type(y_train)"
      ],
      "metadata": {
        "colab": {
          "base_uri": "https://localhost:8080/"
        },
        "id": "SQw-57_OZhZn",
        "outputId": "df0b8b02-36ac-4c53-bd5c-50fc5428a072"
      },
      "execution_count": null,
      "outputs": [
        {
          "output_type": "execute_result",
          "data": {
            "text/plain": [
              "numpy.ndarray"
            ]
          },
          "metadata": {},
          "execution_count": 21
        }
      ]
    },
    {
      "cell_type": "code",
      "source": [
        "# X_train_flat[:5]"
      ],
      "metadata": {
        "id": "SpWRZFOIZ2QI"
      },
      "execution_count": null,
      "outputs": []
    },
    {
      "cell_type": "code",
      "source": [
        "# # Assuming X_train is your original array of images\n",
        "# n_samples = len(X_train)\n",
        "# n_features = X_train[0].size  # Total number of pixels in an image\n",
        "\n",
        "# # Flatten each image into a 1D array\n",
        "# X_train_flat = X_train.reshape((n_samples, n_features))\n",
        "# Convert the Series to a numpy array of objects\n",
        "X_train_array = X_train.to_numpy()\n",
        "\n",
        "# Flatten each image in the array\n",
        "X_train_flat = np.array([img.flatten() for img in X_train_array])\n"
      ],
      "metadata": {
        "id": "VaMS0JxqbcFw"
      },
      "execution_count": null,
      "outputs": []
    },
    {
      "cell_type": "code",
      "source": [
        "X_test_array = X_test.to_numpy()\n",
        "\n",
        "# Flatten each image in the array\n",
        "X_test_flat = np.array([img.flatten() for img in X_test_array])\n"
      ],
      "metadata": {
        "id": "CEAzAF3FfMJC"
      },
      "execution_count": null,
      "outputs": []
    },
    {
      "cell_type": "code",
      "source": [
        "X_train_flat.shape"
      ],
      "metadata": {
        "colab": {
          "base_uri": "https://localhost:8080/"
        },
        "id": "BFzQVsFQetAf",
        "outputId": "321a5874-63b9-47fe-f7ec-a06537fd01d0"
      },
      "execution_count": null,
      "outputs": [
        {
          "output_type": "execute_result",
          "data": {
            "text/plain": [
              "(8691, 43200)"
            ]
          },
          "metadata": {},
          "execution_count": 24
        }
      ]
    },
    {
      "cell_type": "markdown",
      "source": [
        "None: the scores for each class are returned.\n",
        "'micro': calculate metrics globally by counting the total true positives, false negatives and false positives.\n",
        "'macro': calculate metrics for each label, and find their unweighted mean. This does not take label imbalance into account.\n",
        "'weighted': calculate metrics for each label, and find their average weighted by support (the number of true instances for each label)."
      ],
      "metadata": {
        "id": "XOHOVEJ9iedT"
      }
    },
    {
      "cell_type": "markdown",
      "source": [
        "If you want to stick with a single SVM model, one option could be to encode your two target columns (“space_occupied” and “space_empty”) into a single column with multiclass labels. For example, you could create a new column where:\n",
        "\n",
        "‘0’ represents (space_occupied=0, space_empty=0)\n",
        "‘1’ represents (space_occupied=1, space_empty=0)\n",
        "‘2’ represents (space_occupied=0, space_empty=1)\n",
        "‘3’ represents (space_occupied=1, space_empty=1)"
      ],
      "metadata": {
        "id": "W-SlyXCxitAl"
      }
    },
    {
      "cell_type": "markdown",
      "source": [
        "# SVM"
      ],
      "metadata": {
        "id": "7lfgqWx0di5d"
      }
    },
    {
      "cell_type": "code",
      "source": [
        "# from sklearn import svm\n",
        "# from sklearn.model_selection import train_test_split\n",
        "# from sklearn.metrics import accuracy_score\n",
        "# import time\n",
        "# # Create a SVM classifier\n",
        "# svm_clf = svm.SVC(max_iter=2)\n",
        "\n",
        "# # Train the classifier\n",
        "# svm_clf.fit(X_train_flat, y_train)\n",
        "# start_time = time.time()\n",
        "# svm_clf.fit(X_train_flat, y_train)\n",
        "# end_time = time.time()\n",
        "# # Predict  for the test data\n",
        "# y_pred = svm_clf.predict(X_test_flat)\n",
        "\n",
        "\n",
        "\n",
        "# execution_time = end_time - start_time\n",
        "\n",
        "\n",
        "\n",
        "# # Calculate evaluation metrics\n",
        "# accuracy = accuracy_score(y_test, y_pred)\n",
        "# precision = precision_score(y_test, y_pred,average='micro')\n",
        "# recall = recall_score(y_test, y_pred,average='micro')\n",
        "# f1 = f1_score(y_test, y_pred,average='micro')\n",
        "# # auc = roc_auc_score(y_test, y_pred)\n",
        "\n",
        "# # Print the evaluation metrics and execution time\n",
        "# print(\"Accuracy:\", accuracy)\n",
        "# print(\"Precision:\", precision)\n",
        "# print(\"Recall:\", recall)\n",
        "# print(\"F1 Score:\", f1)\n",
        "# # print(\"AUC:\", auc)\n",
        "# print(\"Execution Time:\", execution_time)"
      ],
      "metadata": {
        "colab": {
          "base_uri": "https://localhost:8080/"
        },
        "id": "7BdjBB51X1oN",
        "outputId": "dbb3d532-e4be-49ce-a10f-be097776fe7f"
      },
      "execution_count": null,
      "outputs": [
        {
          "output_type": "stream",
          "name": "stderr",
          "text": [
            "Solver terminated early (max_iter=2).  Consider pre-processing your data with StandardScaler or MinMaxScaler.\n",
            "Solver terminated early (max_iter=2).  Consider pre-processing your data with StandardScaler or MinMaxScaler.\n"
          ]
        },
        {
          "output_type": "stream",
          "name": "stdout",
          "text": [
            "Accuracy: 0.24879227053140096\n",
            "Precision: 0.24879227053140096\n",
            "Recall: 0.24879227053140096\n",
            "F1 Score: 0.24879227053140096\n",
            "Execution Time: 2.58661150932312\n"
          ]
        }
      ]
    },
    {
      "cell_type": "code",
      "source": [
        "%cd /content\n",
        "import numpy as np\n",
        "from sklearn import svm, datasets\n",
        "from sklearn.metrics import roc_curve, auc, accuracy_score, precision_score, recall_score, f1_score\n",
        "from sklearn.model_selection import train_test_split\n",
        "from sklearn.preprocessing import label_binarize\n",
        "from sklearn.multiclass import OneVsRestClassifier\n",
        "from scipy import interp\n",
        "import matplotlib.pyplot as plt\n",
        "import time\n",
        "\n",
        "# Binarize the output\n",
        "y_train_bin = label_binarize(y_train, classes=[0, 1, 2, 3])\n",
        "y_test_bin = label_binarize(y_test, classes=[0, 1, 2, 3])\n",
        "n_classes = y_train_bin.shape[1]\n",
        "\n",
        "# Learn to predict each class against the other using One-vs-Rest scheme\n",
        "classifier = OneVsRestClassifier(svm.SVC(kernel='linear', probability=True, max_iter=500))\n",
        "time_taken = time.time()\n",
        "y_score = classifier.fit(X_train_flat, y_train_bin).decision_function(X_test_flat)\n",
        "time_taken = time.time() - time_taken\n",
        "\n",
        "# Compute ROC curve and ROC area for each class\n",
        "fpr = dict()\n",
        "tpr = dict()\n",
        "roc_auc = dict()\n",
        "for i in range(n_classes):\n",
        "    fpr[i], tpr[i], _ = roc_curve(y_test_bin[:, i], y_score[:, i])\n",
        "    roc_auc[i] = auc(fpr[i], tpr[i])\n",
        "\n",
        "# Compute micro-average ROC curve and ROC area\n",
        "fpr[\"micro\"], tpr[\"micro\"], _ = roc_curve(y_test_bin.ravel(), y_score.ravel())\n",
        "roc_auc[\"micro\"] = auc(fpr[\"micro\"], tpr[\"micro\"])\n",
        "\n",
        "# Plot the ROC curve\n",
        "plt.figure()\n",
        "plt.plot(fpr[\"micro\"], tpr[\"micro\"], label='micro-average ROC curve (area = {0:0.2f})'.format(roc_auc[\"micro\"]))\n",
        "plt.plot([0, 1], [0, 1], 'k--')\n",
        "plt.xlim([0.0, 1.0])\n",
        "plt.ylim([0.0, 1.05])\n",
        "plt.xlabel('False Positive Rate')\n",
        "plt.ylabel('True Positive Rate')\n",
        "plt.title('Receiver Operating Characteristic')\n",
        "plt.legend(loc=\"lower right\")\n",
        "plt.show()\n",
        "plt.savefig('PS_roc_curve_SVM.png', dpi=300)  # Save the plot as a high-quality image\n",
        "\n",
        "# Predict the test data\n",
        "y_pred = classifier.predict(X_test_flat)\n",
        "y_test_bin = label_binarize(y_test, classes=[0, 1, 2, 3])\n",
        "\n",
        "# Calculate evaluation metrics\n",
        "accuracy = accuracy_score(y_test_bin, y_pred)\n",
        "precision = precision_score(y_test_bin, y_pred, average='micro')\n",
        "recall = recall_score(y_test_bin, y_pred, average='micro')\n",
        "f1 = f1_score(y_test_bin, y_pred, average='micro')\n",
        "# Print the evaluation metrics\n",
        "print(\"Accuracy:\", accuracy)\n",
        "print(\"Precision:\", precision)\n",
        "print(\"Recall:\", recall)\n",
        "print(\"F1 Score:\", f1)\n",
        "print(\"Execution Time: \",time_taken)"
      ],
      "metadata": {
        "colab": {
          "base_uri": "https://localhost:8080/",
          "height": 677
        },
        "id": "yyCVxSYTlJ-1",
        "outputId": "405ed6e1-cf6f-40ac-b524-60971873c17f"
      },
      "execution_count": null,
      "outputs": [
        {
          "output_type": "stream",
          "name": "stdout",
          "text": [
            "/content\n"
          ]
        },
        {
          "output_type": "stream",
          "name": "stderr",
          "text": [
            "Solver terminated early (max_iter=500).  Consider pre-processing your data with StandardScaler or MinMaxScaler.\n",
            "Solver terminated early (max_iter=500).  Consider pre-processing your data with StandardScaler or MinMaxScaler.\n",
            "Solver terminated early (max_iter=500).  Consider pre-processing your data with StandardScaler or MinMaxScaler.\n"
          ]
        },
        {
          "output_type": "display_data",
          "data": {
            "text/plain": [
              "<Figure size 640x480 with 1 Axes>"
            ],
            "image/png": "[encoded data removed]"
          },
          "metadata": {}
        },
        {
          "output_type": "stream",
          "name": "stdout",
          "text": [
            "Accuracy: 0.644927536231884\n",
            "Precision: 0.7712565838976674\n",
            "Recall: 0.8252818035426731\n",
            "F1 Score: 0.7973551147413458\n",
            "Execution Time:  1138.6385798454285\n"
          ]
        },
        {
          "output_type": "display_data",
          "data": {
            "text/plain": [
              "<Figure size 640x480 with 0 Axes>"
            ]
          },
          "metadata": {}
        }
      ]
    },
    {
      "cell_type": "code",
      "source": [],
      "metadata": {
        "id": "2dofneAjiw_k"
      },
      "execution_count": null,
      "outputs": []
    },
    {
      "cell_type": "markdown",
      "metadata": {
        "id": "7p9joJWLL50r"
      },
      "source": [
        "# Decision Trees"
      ]
    },
    {
      "cell_type": "code",
      "execution_count": null,
      "metadata": {
        "id": "oRwyh5IRL_OJ"
      },
      "outputs": [],
      "source": [
        "# from sklearn.tree import DecisionTreeClassifier\n",
        "# import time\n",
        "# from sklearn.metrics import accuracy_score, precision_score, recall_score, f1_score, roc_auc_score\n",
        "\n",
        "# # Create an SVM classifier\n",
        "# DecisionTrees = DecisionTreeClassifier()\n",
        "\n",
        "# # Train the SVM classifier\n",
        "# start_time = time.time()\n",
        "# DecisionTrees.fit(X_train_flat, y_train)\n",
        "# end_time = time.time()\n",
        "# # Predict  for the test data\n",
        "# y_pred = DecisionTrees.predict(X_test_flat)\n",
        "\n",
        "\n",
        "\n",
        "# execution_time = end_time - start_time\n",
        "\n",
        "\n",
        "\n",
        "# # Calculate evaluation metrics\n",
        "# accuracy = accuracy_score(y_test, y_pred)\n",
        "# precision = precision_score(y_test, y_pred)\n",
        "# recall = recall_score(y_test, y_pred)\n",
        "# f1 = f1_score(y_test, y_pred)\n",
        "# auc = roc_auc_score(y_test, y_pred)\n",
        "\n",
        "# #Print the evaluation metrics and execution time\n",
        "# print(\"Accuracy:\", accuracy)\n",
        "# print(\"Precision:\", precision)\n",
        "# print(\"Recall:\", recall)\n",
        "# print(\"F1 Score:\", f1)\n",
        "# print(\"AUC:\", auc)\n",
        "# print(\"Execution Time:\", execution_time)"
      ]
    },
    {
      "cell_type": "code",
      "source": [
        "import numpy as np\n",
        "from sklearn import tree\n",
        "from sklearn.metrics import roc_curve, auc, accuracy_score, precision_score, recall_score, f1_score\n",
        "from sklearn.model_selection import train_test_split\n",
        "from sklearn.preprocessing import label_binarize\n",
        "from sklearn.multiclass import OneVsRestClassifier\n",
        "from scipy import interp\n",
        "import matplotlib.pyplot as plt\n",
        "import time\n",
        "\n",
        "\n",
        "# Binarize the output\n",
        "y_train_bin = label_binarize(y_train, classes=[0, 1, 2, 3])\n",
        "y_test_bin = label_binarize(y_test, classes=[0, 1, 2, 3])\n",
        "n_classes = y_train_bin.shape[1]\n",
        "\n",
        "# Learn to predict each class against the other using One-vs-Rest scheme\n",
        "classifier = OneVsRestClassifier(tree.DecisionTreeClassifier())\n",
        "time_taken = time.time()\n",
        "classifier.fit(X_train_flat, y_train_bin)\n",
        "time_taken = time.time() - time_taken\n",
        "\n",
        "# Compute ROC curve and ROC area for each class\n",
        "fpr = dict()\n",
        "tpr = dict()\n",
        "roc_auc = dict()\n",
        "for i in range(n_classes):\n",
        "    y_score = classifier.predict_proba(X_test_flat)[:, i]\n",
        "    fpr[i], tpr[i], _ = roc_curve(y_test_bin[:, i], y_score)\n",
        "    roc_auc[i] = auc(fpr[i], tpr[i])\n",
        "\n",
        "# Compute micro-average ROC curve and ROC area\n",
        "fpr[\"micro\"], tpr[\"micro\"], _ = roc_curve(y_test_bin.ravel(), classifier.predict_proba(X_test_flat).ravel())\n",
        "roc_auc[\"micro\"] = auc(fpr[\"micro\"], tpr[\"micro\"])\n",
        "\n",
        "# Plot the ROC curve\n",
        "plt.figure()\n",
        "plt.plot(fpr[\"micro\"], tpr[\"micro\"], label='micro-average ROC curve (area = {0:0.2f})'.format(roc_auc[\"micro\"]))\n",
        "plt.plot([0, 1], [0, 1], 'k--')\n",
        "plt.xlim([0.0, 1.0])\n",
        "plt.ylim([0.0, 1.05])\n",
        "plt.xlabel('False Positive Rate')\n",
        "plt.ylabel('True Positive Rate')\n",
        "plt.title('Receiver Operating Characteristic')\n",
        "plt.legend(loc=\"lower right\")\n",
        "plt.show()\n",
        "plt.savefig('PS_roc_curve_DT.png', dpi=300)  # Save the plot as a high-quality image\n",
        "\n",
        "# Predict the test data\n",
        "y_pred = classifier.predict(X_test_flat)\n",
        "\n",
        "# Calculate evaluation metrics\n",
        "accuracy = accuracy_score(y_test_bin, y_pred)\n",
        "precision = precision_score(y_test_bin, y_pred, average='micro')\n",
        "recall = recall_score(y_test_bin, y_pred, average='micro')\n",
        "f1 = f1_score(y_test_bin, y_pred, average='micro')\n",
        "\n",
        "# Print the evaluation metrics\n",
        "print(\"Accuracy:\", accuracy)\n",
        "print(\"Precision:\", precision)\n",
        "print(\"Recall:\", recall)\n",
        "print(\"F1 Score:\", f1)\n",
        "print(\"Execution Time: \",time_taken)\n"
      ],
      "metadata": {
        "colab": {
          "base_uri": "https://localhost:8080/",
          "height": 583
        },
        "id": "5ZTneS6zqXSI",
        "outputId": "a527634a-49a2-48dd-fb1a-a7200799ffe0"
      },
      "execution_count": null,
      "outputs": [
        {
          "output_type": "display_data",
          "data": {
            "text/plain": [
              "<Figure size 640x480 with 1 Axes>"
            ],
            "image/png": "[encoded data removed]"
          },
          "metadata": {}
        },
        {
          "output_type": "stream",
          "name": "stdout",
          "text": [
            "Accuracy: 0.785024154589372\n",
            "Precision: 0.8550039401103231\n",
            "Recall: 0.8735909822866345\n",
            "F1 Score: 0.8641975308641975\n",
            "Execution Time:  1411.0847098827362\n"
          ]
        },
        {
          "output_type": "display_data",
          "data": {
            "text/plain": [
              "<Figure size 640x480 with 0 Axes>"
            ]
          },
          "metadata": {}
        }
      ]
    },
    {
      "cell_type": "markdown",
      "source": [
        "# Random Forest"
      ],
      "metadata": {
        "id": "DeGj-jZMswcC"
      }
    },
    {
      "cell_type": "code",
      "source": [
        "import numpy as np\n",
        "from sklearn.ensemble import RandomForestClassifier\n",
        "from sklearn.metrics import roc_curve, auc, accuracy_score, precision_score, recall_score, f1_score\n",
        "from sklearn.model_selection import train_test_split\n",
        "from sklearn.preprocessing import label_binarize\n",
        "from sklearn.multiclass import OneVsRestClassifier\n",
        "from scipy import interp\n",
        "import matplotlib.pyplot as plt\n",
        "import time\n",
        "\n",
        "\n",
        "# Binarize the output\n",
        "y_train_bin = label_binarize(y_train, classes=[0, 1, 2, 3])\n",
        "y_test_bin = label_binarize(y_test, classes=[0, 1, 2, 3])\n",
        "n_classes = y_train_bin.shape[1]\n",
        "\n",
        "# Learn to predict each class against the other using One-vs-Rest scheme\n",
        "classifier = OneVsRestClassifier(RandomForestClassifier(n_estimators=100))\n",
        "time_taken = time.time()\n",
        "classifier.fit(X_train_flat, y_train_bin)\n",
        "time_taken = time.time() - time_taken\n",
        "\n",
        "# Compute ROC curve and ROC area for each class\n",
        "fpr = dict()\n",
        "tpr = dict()\n",
        "roc_auc = dict()\n",
        "for i in range(n_classes):\n",
        "    y_score = classifier.predict_proba(X_test_flat)[:, i]\n",
        "    fpr[i], tpr[i], _ = roc_curve(y_test_bin[:, i], y_score)\n",
        "    roc_auc[i] = auc(fpr[i], tpr[i])\n",
        "\n",
        "# Compute micro-average ROC curve and ROC area\n",
        "fpr[\"micro\"], tpr[\"micro\"], _ = roc_curve(y_test_bin.ravel(), classifier.predict_proba(X_test_flat).ravel())\n",
        "roc_auc[\"micro\"] = auc(fpr[\"micro\"], tpr[\"micro\"])\n",
        "\n",
        "# Plot the ROC curve\n",
        "plt.figure()\n",
        "plt.plot(fpr[\"micro\"], tpr[\"micro\"], label='micro-average ROC curve (area = {0:0.2f})'.format(roc_auc[\"micro\"]))\n",
        "plt.plot([0, 1], [0, 1], 'k--')\n",
        "plt.xlim([0.0, 1.0])\n",
        "plt.ylim([0.0, 1.05])\n",
        "plt.xlabel('False Positive Rate')\n",
        "plt.ylabel('True Positive Rate')\n",
        "plt.title('Receiver Operating Characteristic')\n",
        "plt.legend(loc=\"lower right\")\n",
        "plt.show()\n",
        "plt.savefig('PS_roc_curve_RF.png', dpi=300)  # Save the plot as a high-quality image\n",
        "\n",
        "# Predict the test data\n",
        "y_pred = classifier.predict(X_test_flat)\n",
        "\n",
        "# Calculate evaluation metrics\n",
        "accuracy = accuracy_score(y_test_bin, y_pred)\n",
        "precision = precision_score(y_test_bin, y_pred, average='micro')\n",
        "recall = recall_score(y_test_bin, y_pred, average='micro')\n",
        "f1 = f1_score(y_test_bin, y_pred, average='micro')\n",
        "\n",
        "# Print the evaluation metrics\n",
        "print(\"Accuracy:\", accuracy)\n",
        "print(\"Precision:\", precision)\n",
        "print(\"Recall:\", recall)\n",
        "print(\"F1 Score:\", f1)\n",
        "print(\"Execution Time: \",time_taken)\n"
      ],
      "metadata": {
        "colab": {
          "base_uri": "https://localhost:8080/",
          "height": 583
        },
        "id": "W8F5vXAxsz_Y",
        "outputId": "1a00d561-9b9a-4dee-d6a1-48340fae09c9"
      },
      "execution_count": null,
      "outputs": [
        {
          "output_type": "display_data",
          "data": {
            "text/plain": [
              "<Figure size 640x480 with 1 Axes>"
            ],
            "image/png": "[encoded data removed]"
          },
          "metadata": {}
        },
        {
          "output_type": "stream",
          "name": "stdout",
          "text": [
            "Accuracy: 0.9017713365539453\n",
            "Precision: 0.919773095623987\n",
            "Recall: 0.9138486312399355\n",
            "F1 Score: 0.9168012924071082\n",
            "Execution Time:  367.6131627559662\n"
          ]
        },
        {
          "output_type": "display_data",
          "data": {
            "text/plain": [
              "<Figure size 640x480 with 0 Axes>"
            ]
          },
          "metadata": {}
        }
      ]
    }
  ]
}